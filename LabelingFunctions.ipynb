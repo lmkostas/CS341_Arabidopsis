{
 "cells": [
  {
   "cell_type": "markdown",
   "metadata": {},
   "source": [
    "# Tagging genes with ddlite: learning and labeling function iteration\n",
    "\n",
    "## Introduction\n",
    "In this example **ddlite** app, we'll build a gene tagger from scratch. Domain-specific tagging systems take months or years to develop. They use hand-crafted model circuitry and accurate, hand-labeled training data. We'll start to build a pretty good one in a few minutes with none of those things. The generalized extraction and learning utilities provided by ddlite will allow us to turn a sampling of article abstracts and some basic domain knowledge into an automated tagging system. Specifically, we want an accurate tagger for genes in academic articles. We have comprehensive dictionaries of genes, but applying a simple matching rule might yield a lot of false positives. For example, \"p53\" might get tagged as a gene if it refers to a page number. Our goal is to use distant supervision to improve precision.\n",
    "\n",
    "Here's the pipeline we'll follow:\n",
    "\n",
    "1. Obtain and parse input data (relevant article abstracts from PubMed)\n",
    "2. Extract candidates for tagging\n",
    "3. Generate features\n",
    "4. Create a test set\n",
    "5. Write labeling functions\n",
    "6. Learn the tagging model\n",
    "7. Iterate on labeling functions\n",
    "\n",
    "Parts 3 through 7 are covered in this notebook. It requires candidates extracted from `GeneTaggerExample_Extraction.ipynb`, which covers parts 1 and 2."
   ]
  },
  {
   "cell_type": "code",
   "execution_count": 1,
   "metadata": {
    "collapsed": false
   },
   "outputs": [],
   "source": [
    "%reload_ext autoreload\n",
    "%autoreload 2\n",
    "\n",
    "import os\n",
    "import sys\n",
    "import cPickle\n",
    "import numpy as np\n",
    "import matplotlib\n",
    "# Use production DB\n",
    "from set_env import set_env\n",
    "set_env() \n",
    "sys.path.insert(1, '../snorkel')\n",
    "\n",
    "# Must set SNORKELDB before importing SnorkelSession\n",
    "from snorkel import SnorkelSession\n",
    "from snorkel.parser import TextDocPreprocessor\n",
    "from snorkel.parser import CorpusParser\n",
    "from snorkel.models import Document, Sentence, candidate_subclass\n",
    "from snorkel.viewer import SentenceNgramViewer\n",
    "session = SnorkelSession()\n",
    "\n",
    "#np.random.seed(seed=1701)\n",
    "\n",
    "%matplotlib inline\n",
    "matplotlib.rcParams['figure.figsize'] = (18,6)"
   ]
  },
  {
   "cell_type": "markdown",
   "metadata": {},
   "source": [
    "## Loading candidate extractions\n",
    "First, we'll load in the candidates that we created in the last notebook. We can construct an docs object with the file."
   ]
  },
  {
   "cell_type": "code",
   "execution_count": 2,
   "metadata": {
    "collapsed": false
   },
   "outputs": [
    {
     "name": "stdout",
     "output_type": "stream",
     "text": [
      "Documents: 400\n",
      "Sentences: 95656\n",
      "Document set:\t421 candidates\n"
     ]
    }
   ],
   "source": [
    "GenePhenoPair = candidate_subclass('GenePhenoPair', ['gene', 'pheno'])\n",
    "\n",
    "docs = session.query(GenePhenoPair).filter(GenePhenoPair.split == 0).all()  #should edit split to be 1. \n",
    "\n",
    "print \"Documents:\", session.query(Document).count()\n",
    "print \"Sentences:\", session.query(Sentence).count()\n",
    "\n",
    "##Once we get all the labels, for loop through all docs and split into train, dev, test. \n",
    "\n",
    "print 'Document set:\\t{0} candidates'.format(len(docs))"
   ]
  },
  {
   "cell_type": "code",
   "execution_count": null,
   "metadata": {
    "collapsed": true
   },
   "outputs": [],
   "source": []
  },
  {
   "cell_type": "markdown",
   "metadata": {},
   "source": [
    "## Make Labeling Functions"
   ]
  },
  {
   "cell_type": "code",
   "execution_count": 3,
   "metadata": {
    "collapsed": false
   },
   "outputs": [
    {
     "name": "stderr",
     "output_type": "stream",
     "text": [
      "/Users/tarabalakrishnan/anaconda/envs/py2Env/lib/python2.7/site-packages/matplotlib/__init__.py:1401: UserWarning:  This call to matplotlib.use() has no effect\n",
      "because the backend has already been chosen;\n",
      "matplotlib.use() must be called *before* pylab, matplotlib.pyplot,\n",
      "or matplotlib.backends is imported for the first time.\n",
      "\n",
      "  warnings.warn(_use_error_msg)\n"
     ]
    }
   ],
   "source": [
    "import re\n",
    "from snorkel.lf_helpers import (\n",
    "    get_left_tokens,\n",
    "    get_between_tokens,\n",
    "    get_right_tokens,\n",
    "    contains_token,\n",
    "    get_text_between,\n",
    "    is_inverted,\n",
    "    get_tagged_text,\n",
    "    rule_regex_search_tagged_text,\n",
    "    rule_regex_search_btw_AB,\n",
    "    rule_regex_search_btw_BA,\n",
    "    rule_regex_search_before_A,\n",
    "    rule_regex_search_before_B,\n",
    ")\n",
    "\n",
    "def LF_gene(c):\n",
    "    return 1 if ('gene' in get_right_tokens(c, attrib='lemmas')) or ('gene' in get_left_tokens(c, attrib='lemmas')) else 0\n",
    "def LF_mutant(c):\n",
    "    return 1 if ('mutant' in get_right_tokens(c, attrib='lemmas')) or ('mutant' in get_left_tokens(c, attrib='lemmas')) else 0\n",
    "def LF_variant(c):\n",
    "    return 1 if ('variant' in get_right_tokens(c, attrib='lemmas')) or ('variant' in get_left_tokens(c, attrib='lemmas')) else 0\n",
    "def LF_express(c):\n",
    "    return 1 if ('express' in get_right_tokens(c, attrib='lemmas')) or ('express' in get_left_tokens(c, attrib='lemmas')) else 0  \n",
    "def LF_JJ(c):\n",
    "    return 1 if 'JJ' in get_right_tokens(c, attrib='pos_tags') else 0\n",
    "def LF_IN(c):\n",
    "    return 1 if 'IN' in get_right_tokens(c, window=1, attrib='pos_tags') else 0\n",
    "def LF_dna(c):\n",
    "    return -1 if contains_token(c, 'DNA', attrib='words') else 0\n",
    "def LF_rna(c):\n",
    "    return -1 if contains_token(c, 'RNA', attrib='words') else 0\n",
    "def LF_snp(c):\n",
    "    return -1 if contains_token(c, 'SNP', attrib='words') else 0\n",
    "    #return -1 if 'SNP' in contains_token(c, attrib='words') else 0\n",
    "def LF_protein(c):\n",
    "    return -1 if 'protein' in get_left_tokens(c, attrib='lemmas') else 0\n",
    "def LF_LRB(c):\n",
    "    return -1 if '-LRB-' in get_right_tokens(c, window=1, attrib='pos_tags') else 0\n",
    "def LF_RRB(c):\n",
    "    return -1 if '-RRB-' in get_right_tokens(c, window=1, attrib='pos_tags') else 0    \n",
    "def LF_NNP(c):\n",
    "    return -1 if contains_token(c, 'NNP', attrib='pos_tags') else 0\n",
    "\n",
    "\n",
    "    \n"
   ]
  },
  {
   "cell_type": "code",
   "execution_count": null,
   "metadata": {
    "collapsed": true
   },
   "outputs": [],
   "source": [
    "#Skipping over dependency parent LFs. \n",
    "''' Dependency Parents \n",
    "def LF_gene_dp(m):\n",
    "    return 1 if 'gene' in [m.lemmas[m.dep_parents[i] - 1] for i in m.idxs] else 0\n",
    "def LF_genotype_dp(m):\n",
    "    return 1 if 'genotype' in [m.lemmas[m.dep_parents[i] - 1] for i in m.idxs] else 0\n",
    "def LF_mutation(m):\n",
    "    return 1 if 'mutation' in [m.lemmas[m.dep_parents[i] - 1] for i in m.idxs] else 0\n",
    "\n",
    "\n",
    "def LF_dev_dp(m):\n",
    "    return -1 if 'development' in [m.lemmas[m.dep_parents[i] - 1] for i in m.idxs] else 0\n",
    "def LF_protein_dp(m):\n",
    "    return -1 if 'protein' in [m.lemmas[m.dep_parents[i] - 1] for i in m.idxs] else 0\n",
    "def LF_network_dp(m):\n",
    "    return -1 if 'network' in [m.lemmas[m.dep_parents[i] - 1] for i in m.idxs] else 0\n",
    "def LF_JJ_dp(m):\n",
    "    return -1 if 'JJ' in [m.poses[m.dep_parents[i] - 1] for i in m.idxs] else 0\n",
    "'''"
   ]
  },
  {
   "cell_type": "code",
   "execution_count": null,
   "metadata": {
    "collapsed": true
   },
   "outputs": [],
   "source": []
  },
  {
   "cell_type": "code",
   "execution_count": 4,
   "metadata": {
    "collapsed": false
   },
   "outputs": [
    {
     "name": "stdout",
     "output_type": "stream",
     "text": [
      "GenePhenoPair(Span(\"ATF6\", sentence=277379, chars=[14,17], words=[2,2]), Span(\"regulated intramembrane proteolysis (\", sentence=277379, chars=[43,79], words=[8,11]))\n",
      "Sentence(Document PMC2156172,95,Processing of ATF6 in mammalian cells is a regulated intramembrane proteolysis (RIP) process involving cleavage of the protein by S1P, followed by S2P digestion and release from the ER of the cytosolic component of the protein (Ye et al., 2000). )\n",
      "(Span(\"ATF6\", sentence=277379, chars=[14,17], words=[2,2]), Span(\"regulated intramembrane proteolysis (\", sentence=277379, chars=[43,79], words=[8,11]))\n",
      "[11, 11, 0, 13]\n",
      "hi\n"
     ]
    },
    {
     "ename": "AttributeError",
     "evalue": "'GenePhenoPair' object has no attribute 'dep_parents'",
     "output_type": "error",
     "traceback": [
      "\u001b[0;31m---------------------------------------------------------------------------\u001b[0m",
      "\u001b[0;31mAttributeError\u001b[0m                            Traceback (most recent call last)",
      "\u001b[0;32m<ipython-input-4-114df10d88ad>\u001b[0m in \u001b[0;36m<module>\u001b[0;34m()\u001b[0m\n\u001b[1;32m      8\u001b[0m \u001b[0;32mprint\u001b[0m \u001b[0;34m(\u001b[0m\u001b[0mdocs\u001b[0m\u001b[0;34m[\u001b[0m\u001b[0;36m15\u001b[0m\u001b[0;34m]\u001b[0m\u001b[0;34m[\u001b[0m\u001b[0;36m1\u001b[0m\u001b[0;34m]\u001b[0m\u001b[0;34m)\u001b[0m\u001b[0;34m.\u001b[0m\u001b[0mget_attrib_tokens\u001b[0m\u001b[0;34m(\u001b[0m\u001b[0;34m'dep_parents'\u001b[0m\u001b[0;34m)\u001b[0m\u001b[0;34m\u001b[0m\u001b[0m\n\u001b[1;32m      9\u001b[0m \u001b[0;32mprint\u001b[0m \u001b[0;34m\"hi\"\u001b[0m\u001b[0;34m\u001b[0m\u001b[0m\n\u001b[0;32m---> 10\u001b[0;31m \u001b[0;32mprint\u001b[0m \u001b[0mLF_DP\u001b[0m\u001b[0;34m(\u001b[0m\u001b[0mdocs\u001b[0m\u001b[0;34m[\u001b[0m\u001b[0;36m0\u001b[0m\u001b[0;34m]\u001b[0m\u001b[0;34m)\u001b[0m\u001b[0;34m\u001b[0m\u001b[0m\n\u001b[0m",
      "\u001b[0;32m<ipython-input-4-114df10d88ad>\u001b[0m in \u001b[0;36mLF_DP\u001b[0;34m(c)\u001b[0m\n\u001b[1;32m      1\u001b[0m \u001b[0;32mdef\u001b[0m \u001b[0mLF_DP\u001b[0m\u001b[0;34m(\u001b[0m\u001b[0mc\u001b[0m\u001b[0;34m)\u001b[0m\u001b[0;34m:\u001b[0m\u001b[0;34m\u001b[0m\u001b[0m\n\u001b[0;32m----> 2\u001b[0;31m     \u001b[0;32mprint\u001b[0m \u001b[0mc\u001b[0m\u001b[0;34m.\u001b[0m\u001b[0mdep_parents\u001b[0m\u001b[0;34m(\u001b[0m\u001b[0;34m)\u001b[0m\u001b[0;34m\u001b[0m\u001b[0m\n\u001b[0m\u001b[1;32m      3\u001b[0m \u001b[0;34m\u001b[0m\u001b[0m\n\u001b[1;32m      4\u001b[0m \u001b[0;32mprint\u001b[0m \u001b[0mdocs\u001b[0m\u001b[0;34m[\u001b[0m\u001b[0;36m15\u001b[0m\u001b[0;34m]\u001b[0m\u001b[0;34m\u001b[0m\u001b[0m\n\u001b[1;32m      5\u001b[0m \u001b[0msent\u001b[0m \u001b[0;34m=\u001b[0m \u001b[0mdocs\u001b[0m\u001b[0;34m[\u001b[0m\u001b[0;36m15\u001b[0m\u001b[0;34m]\u001b[0m\u001b[0;34m.\u001b[0m\u001b[0mget_parent\u001b[0m\u001b[0;34m(\u001b[0m\u001b[0;34m)\u001b[0m\u001b[0;34m\u001b[0m\u001b[0m\n",
      "\u001b[0;31mAttributeError\u001b[0m: 'GenePhenoPair' object has no attribute 'dep_parents'"
     ]
    }
   ],
   "source": [
    "def LF_DP(c):\n",
    "    print c.dep_parents()\n",
    "    \n",
    "print docs[15]\n",
    "sent = docs[15].get_parent()\n",
    "print sent\n",
    "print docs[15].get_contexts()\n",
    "print (docs[15][1]).get_attrib_tokens('dep_parents')\n",
    "print \"hi\"\n",
    "print LF_DP(docs[0])"
   ]
  },
  {
   "cell_type": "markdown",
   "metadata": {},
   "source": [
    "# Running LFs on the Training Set"
   ]
  },
  {
   "cell_type": "code",
   "execution_count": 5,
   "metadata": {
    "collapsed": true
   },
   "outputs": [],
   "source": [
    "LFs = [\n",
    "    LF_gene,\n",
    "    LF_mutant,\n",
    "    LF_variant,\n",
    "    LF_express,\n",
    "    LF_JJ,\n",
    "    LF_IN,\n",
    "    LF_dna,\n",
    "    LF_rna,\n",
    "    LF_snp,\n",
    "    LF_protein,\n",
    "    LF_LRB,\n",
    "    LF_RRB,\n",
    "    LF_NNP,\n",
    "]"
   ]
  },
  {
   "cell_type": "code",
   "execution_count": 6,
   "metadata": {
    "collapsed": true
   },
   "outputs": [],
   "source": [
    "from snorkel.annotations import LabelAnnotator\n",
    "labeler = LabelAnnotator(f=LFs)"
   ]
  },
  {
   "cell_type": "code",
   "execution_count": 7,
   "metadata": {
    "collapsed": false
   },
   "outputs": [
    {
     "name": "stdout",
     "output_type": "stream",
     "text": [
      "Clearing existing...\n",
      "Running UDF...\n",
      "[========================================] 100%%\n",
      "\n",
      "CPU times: user 3.65 s, sys: 177 ms, total: 3.83 s\n",
      "Wall time: 5.57 s\n"
     ]
    },
    {
     "data": {
      "text/plain": [
       "<421x13 sparse matrix of type '<type 'numpy.float64'>'\n",
       "\twith 80 stored elements in Compressed Sparse Row format>"
      ]
     },
     "execution_count": 7,
     "metadata": {},
     "output_type": "execute_result"
    }
   ],
   "source": [
    "%time L_train = labeler.apply(split=0)\n",
    "L_train"
   ]
  },
  {
   "cell_type": "code",
   "execution_count": 8,
   "metadata": {
    "collapsed": false
   },
   "outputs": [
    {
     "data": {
      "text/html": [
       "<div>\n",
       "<table border=\"1\" class=\"dataframe\">\n",
       "  <thead>\n",
       "    <tr style=\"text-align: right;\">\n",
       "      <th></th>\n",
       "      <th>j</th>\n",
       "      <th>Coverage</th>\n",
       "      <th>Overlaps</th>\n",
       "      <th>Conflicts</th>\n",
       "    </tr>\n",
       "  </thead>\n",
       "  <tbody>\n",
       "    <tr>\n",
       "      <th>LF_gene</th>\n",
       "      <td>0</td>\n",
       "      <td>0.019002</td>\n",
       "      <td>0.002375</td>\n",
       "      <td>0.000000</td>\n",
       "    </tr>\n",
       "    <tr>\n",
       "      <th>LF_mutant</th>\n",
       "      <td>1</td>\n",
       "      <td>0.064133</td>\n",
       "      <td>0.016627</td>\n",
       "      <td>0.014252</td>\n",
       "    </tr>\n",
       "    <tr>\n",
       "      <th>LF_variant</th>\n",
       "      <td>2</td>\n",
       "      <td>0.000000</td>\n",
       "      <td>0.000000</td>\n",
       "      <td>0.000000</td>\n",
       "    </tr>\n",
       "    <tr>\n",
       "      <th>LF_express</th>\n",
       "      <td>3</td>\n",
       "      <td>0.009501</td>\n",
       "      <td>0.004751</td>\n",
       "      <td>0.004751</td>\n",
       "    </tr>\n",
       "    <tr>\n",
       "      <th>LF_JJ</th>\n",
       "      <td>4</td>\n",
       "      <td>0.000000</td>\n",
       "      <td>0.000000</td>\n",
       "      <td>0.000000</td>\n",
       "    </tr>\n",
       "    <tr>\n",
       "      <th>LF_IN</th>\n",
       "      <td>5</td>\n",
       "      <td>0.000000</td>\n",
       "      <td>0.000000</td>\n",
       "      <td>0.000000</td>\n",
       "    </tr>\n",
       "    <tr>\n",
       "      <th>LF_dna</th>\n",
       "      <td>6</td>\n",
       "      <td>0.014252</td>\n",
       "      <td>0.000000</td>\n",
       "      <td>0.000000</td>\n",
       "    </tr>\n",
       "    <tr>\n",
       "      <th>LF_rna</th>\n",
       "      <td>7</td>\n",
       "      <td>0.009501</td>\n",
       "      <td>0.000000</td>\n",
       "      <td>0.000000</td>\n",
       "    </tr>\n",
       "    <tr>\n",
       "      <th>LF_snp</th>\n",
       "      <td>8</td>\n",
       "      <td>0.000000</td>\n",
       "      <td>0.000000</td>\n",
       "      <td>0.000000</td>\n",
       "    </tr>\n",
       "    <tr>\n",
       "      <th>LF_protein</th>\n",
       "      <td>9</td>\n",
       "      <td>0.011876</td>\n",
       "      <td>0.004751</td>\n",
       "      <td>0.004751</td>\n",
       "    </tr>\n",
       "    <tr>\n",
       "      <th>LF_LRB</th>\n",
       "      <td>10</td>\n",
       "      <td>0.000000</td>\n",
       "      <td>0.000000</td>\n",
       "      <td>0.000000</td>\n",
       "    </tr>\n",
       "    <tr>\n",
       "      <th>LF_RRB</th>\n",
       "      <td>11</td>\n",
       "      <td>0.000000</td>\n",
       "      <td>0.000000</td>\n",
       "      <td>0.000000</td>\n",
       "    </tr>\n",
       "    <tr>\n",
       "      <th>LF_NNP</th>\n",
       "      <td>12</td>\n",
       "      <td>0.061758</td>\n",
       "      <td>0.014252</td>\n",
       "      <td>0.014252</td>\n",
       "    </tr>\n",
       "  </tbody>\n",
       "</table>\n",
       "</div>"
      ],
      "text/plain": [
       "             j  Coverage  Overlaps  Conflicts\n",
       "LF_gene      0  0.019002  0.002375   0.000000\n",
       "LF_mutant    1  0.064133  0.016627   0.014252\n",
       "LF_variant   2  0.000000  0.000000   0.000000\n",
       "LF_express   3  0.009501  0.004751   0.004751\n",
       "LF_JJ        4  0.000000  0.000000   0.000000\n",
       "LF_IN        5  0.000000  0.000000   0.000000\n",
       "LF_dna       6  0.014252  0.000000   0.000000\n",
       "LF_rna       7  0.009501  0.000000   0.000000\n",
       "LF_snp       8  0.000000  0.000000   0.000000\n",
       "LF_protein   9  0.011876  0.004751   0.004751\n",
       "LF_LRB      10  0.000000  0.000000   0.000000\n",
       "LF_RRB      11  0.000000  0.000000   0.000000\n",
       "LF_NNP      12  0.061758  0.014252   0.014252"
      ]
     },
     "execution_count": 8,
     "metadata": {},
     "output_type": "execute_result"
    }
   ],
   "source": [
    "L_train.lf_stats(session)"
   ]
  },
  {
   "cell_type": "markdown",
   "metadata": {},
   "source": [
    "* <b>Coverage</b> is the fraction of candidates that the labeling function emits a non-zero label for.\n",
    "* <b>Overlap</b> is the fraction candidates that the labeling function emits a non-zero label for and that another labeling function emits a non-zero label for.\n",
    "* <b>Conflict</b> is the fraction candidates that the labeling function emits a non-zero label for and that another labeling function emits a conflicting non-zero label for."
   ]
  },
  {
   "cell_type": "markdown",
   "metadata": {},
   "source": [
    "# Generative Model"
   ]
  },
  {
   "cell_type": "code",
   "execution_count": 16,
   "metadata": {
    "collapsed": false
   },
   "outputs": [
    {
     "data": {
      "text/plain": [
       "244"
      ]
     },
     "execution_count": 16,
     "metadata": {},
     "output_type": "execute_result"
    }
   ],
   "source": [
    "from snorkel.learning.structure import DependencySelector\n",
    "ds = DependencySelector()\n",
    "deps = ds.select(L_train, threshold=0.1)\n",
    "len(deps)"
   ]
  },
  {
   "cell_type": "code",
   "execution_count": 17,
   "metadata": {
    "collapsed": false
   },
   "outputs": [
    {
     "data": {
      "text/plain": [
       "{(0, 2, 1),\n",
       " (0, 2, 2),\n",
       " (0, 3, 1),\n",
       " (0, 4, 1),\n",
       " (0, 4, 2),\n",
       " (0, 5, 1),\n",
       " (0, 5, 2),\n",
       " (0, 6, 1),\n",
       " (0, 7, 1),\n",
       " (0, 7, 2),\n",
       " (0, 8, 1),\n",
       " (0, 8, 2),\n",
       " (0, 9, 1),\n",
       " (0, 9, 2),\n",
       " (0, 10, 1),\n",
       " (0, 10, 2),\n",
       " (0, 11, 1),\n",
       " (0, 11, 2),\n",
       " (1, 12, 1),\n",
       " (2, 0, 1),\n",
       " (2, 0, 2),\n",
       " (2, 1, 1),\n",
       " (2, 1, 2),\n",
       " (2, 3, 1),\n",
       " (2, 3, 2),\n",
       " (2, 4, 1),\n",
       " (2, 4, 2),\n",
       " (2, 5, 1),\n",
       " (2, 5, 2),\n",
       " (2, 6, 1),\n",
       " (2, 6, 2),\n",
       " (2, 7, 1),\n",
       " (2, 7, 2),\n",
       " (2, 8, 1),\n",
       " (2, 8, 2),\n",
       " (2, 9, 1),\n",
       " (2, 9, 2),\n",
       " (2, 10, 1),\n",
       " (2, 10, 2),\n",
       " (2, 11, 1),\n",
       " (2, 11, 2),\n",
       " (2, 12, 1),\n",
       " (2, 12, 2),\n",
       " (3, 0, 1),\n",
       " (3, 0, 2),\n",
       " (3, 2, 1),\n",
       " (3, 2, 2),\n",
       " (3, 4, 1),\n",
       " (3, 4, 2),\n",
       " (3, 5, 1),\n",
       " (3, 5, 2),\n",
       " (3, 6, 1),\n",
       " (3, 6, 2),\n",
       " (3, 7, 1),\n",
       " (3, 7, 2),\n",
       " (3, 8, 1),\n",
       " (3, 8, 2),\n",
       " (3, 9, 1),\n",
       " (3, 9, 2),\n",
       " (3, 10, 1),\n",
       " (3, 10, 2),\n",
       " (3, 11, 1),\n",
       " (3, 11, 2),\n",
       " (4, 0, 1),\n",
       " (4, 0, 2),\n",
       " (4, 1, 1),\n",
       " (4, 1, 2),\n",
       " (4, 2, 1),\n",
       " (4, 2, 2),\n",
       " (4, 3, 1),\n",
       " (4, 3, 2),\n",
       " (4, 5, 1),\n",
       " (4, 5, 2),\n",
       " (4, 6, 1),\n",
       " (4, 6, 2),\n",
       " (4, 7, 1),\n",
       " (4, 7, 2),\n",
       " (4, 8, 1),\n",
       " (4, 8, 2),\n",
       " (4, 9, 1),\n",
       " (4, 9, 2),\n",
       " (4, 10, 1),\n",
       " (4, 10, 2),\n",
       " (4, 11, 1),\n",
       " (4, 11, 2),\n",
       " (4, 12, 1),\n",
       " (4, 12, 2),\n",
       " (5, 0, 1),\n",
       " (5, 0, 2),\n",
       " (5, 1, 1),\n",
       " (5, 1, 2),\n",
       " (5, 2, 1),\n",
       " (5, 2, 2),\n",
       " (5, 3, 1),\n",
       " (5, 3, 2),\n",
       " (5, 4, 1),\n",
       " (5, 4, 2),\n",
       " (5, 6, 1),\n",
       " (5, 6, 2),\n",
       " (5, 7, 1),\n",
       " (5, 7, 2),\n",
       " (5, 8, 1),\n",
       " (5, 8, 2),\n",
       " (5, 9, 1),\n",
       " (5, 9, 2),\n",
       " (5, 10, 1),\n",
       " (5, 10, 2),\n",
       " (5, 11, 1),\n",
       " (5, 11, 2),\n",
       " (5, 12, 1),\n",
       " (5, 12, 2),\n",
       " (6, 0, 1),\n",
       " (6, 0, 2),\n",
       " (6, 2, 1),\n",
       " (6, 2, 2),\n",
       " (6, 3, 1),\n",
       " (6, 3, 2),\n",
       " (6, 4, 1),\n",
       " (6, 4, 2),\n",
       " (6, 5, 1),\n",
       " (6, 5, 2),\n",
       " (6, 7, 1),\n",
       " (6, 7, 2),\n",
       " (6, 8, 1),\n",
       " (6, 8, 2),\n",
       " (6, 9, 1),\n",
       " (6, 9, 2),\n",
       " (6, 10, 1),\n",
       " (6, 10, 2),\n",
       " (6, 11, 1),\n",
       " (6, 11, 2),\n",
       " (7, 0, 1),\n",
       " (7, 0, 2),\n",
       " (7, 2, 1),\n",
       " (7, 2, 2),\n",
       " (7, 3, 1),\n",
       " (7, 3, 2),\n",
       " (7, 4, 1),\n",
       " (7, 4, 2),\n",
       " (7, 5, 1),\n",
       " (7, 5, 2),\n",
       " (7, 6, 1),\n",
       " (7, 6, 2),\n",
       " (7, 8, 1),\n",
       " (7, 8, 2),\n",
       " (7, 9, 1),\n",
       " (7, 9, 2),\n",
       " (7, 10, 1),\n",
       " (7, 10, 2),\n",
       " (7, 11, 1),\n",
       " (7, 11, 2),\n",
       " (8, 0, 1),\n",
       " (8, 0, 2),\n",
       " (8, 1, 1),\n",
       " (8, 1, 2),\n",
       " (8, 2, 1),\n",
       " (8, 2, 2),\n",
       " (8, 3, 1),\n",
       " (8, 3, 2),\n",
       " (8, 4, 1),\n",
       " (8, 4, 2),\n",
       " (8, 5, 1),\n",
       " (8, 5, 2),\n",
       " (8, 6, 1),\n",
       " (8, 6, 2),\n",
       " (8, 7, 1),\n",
       " (8, 7, 2),\n",
       " (8, 9, 1),\n",
       " (8, 9, 2),\n",
       " (8, 10, 1),\n",
       " (8, 10, 2),\n",
       " (8, 11, 1),\n",
       " (8, 11, 2),\n",
       " (8, 12, 1),\n",
       " (8, 12, 2),\n",
       " (9, 0, 1),\n",
       " (9, 0, 2),\n",
       " (9, 2, 1),\n",
       " (9, 2, 2),\n",
       " (9, 3, 1),\n",
       " (9, 3, 2),\n",
       " (9, 4, 1),\n",
       " (9, 4, 2),\n",
       " (9, 5, 1),\n",
       " (9, 5, 2),\n",
       " (9, 6, 1),\n",
       " (9, 6, 2),\n",
       " (9, 7, 1),\n",
       " (9, 7, 2),\n",
       " (9, 8, 1),\n",
       " (9, 8, 2),\n",
       " (9, 10, 1),\n",
       " (9, 10, 2),\n",
       " (9, 11, 1),\n",
       " (9, 11, 2),\n",
       " (10, 0, 1),\n",
       " (10, 0, 2),\n",
       " (10, 1, 1),\n",
       " (10, 1, 2),\n",
       " (10, 2, 1),\n",
       " (10, 2, 2),\n",
       " (10, 3, 1),\n",
       " (10, 3, 2),\n",
       " (10, 4, 1),\n",
       " (10, 4, 2),\n",
       " (10, 5, 1),\n",
       " (10, 5, 2),\n",
       " (10, 6, 1),\n",
       " (10, 6, 2),\n",
       " (10, 7, 1),\n",
       " (10, 7, 2),\n",
       " (10, 8, 1),\n",
       " (10, 8, 2),\n",
       " (10, 9, 1),\n",
       " (10, 9, 2),\n",
       " (10, 11, 1),\n",
       " (10, 11, 2),\n",
       " (10, 12, 1),\n",
       " (10, 12, 2),\n",
       " (11, 0, 1),\n",
       " (11, 0, 2),\n",
       " (11, 1, 1),\n",
       " (11, 1, 2),\n",
       " (11, 2, 1),\n",
       " (11, 2, 2),\n",
       " (11, 3, 1),\n",
       " (11, 3, 2),\n",
       " (11, 4, 1),\n",
       " (11, 4, 2),\n",
       " (11, 5, 1),\n",
       " (11, 5, 2),\n",
       " (11, 6, 1),\n",
       " (11, 6, 2),\n",
       " (11, 7, 1),\n",
       " (11, 7, 2),\n",
       " (11, 8, 1),\n",
       " (11, 8, 2),\n",
       " (11, 9, 1),\n",
       " (11, 9, 2),\n",
       " (11, 10, 1),\n",
       " (11, 10, 2),\n",
       " (11, 12, 1),\n",
       " (11, 12, 2),\n",
       " (12, 1, 1)}"
      ]
     },
     "execution_count": 17,
     "metadata": {},
     "output_type": "execute_result"
    }
   ],
   "source": [
    "deps"
   ]
  },
  {
   "cell_type": "code",
   "execution_count": 11,
   "metadata": {
    "collapsed": false
   },
   "outputs": [
    {
     "data": {
      "image/png": "[encoded data removed]",
      "text/plain": [
       "<matplotlib.figure.Figure at 0x117e3ec90>"
      ]
     },
     "metadata": {},
     "output_type": "display_data"
    }
   ],
   "source": [
    "import matplotlib.pyplot as plt\n",
    "plt.hist(train_marginals, bins=20)\n",
    "plt.show()"
   ]
  },
  {
   "cell_type": "code",
   "execution_count": 18,
   "metadata": {
    "collapsed": true
   },
   "outputs": [],
   "source": [
    "deps = set()"
   ]
  },
  {
   "cell_type": "code",
   "execution_count": 19,
   "metadata": {
    "collapsed": true
   },
   "outputs": [],
   "source": [
    "from snorkel.learning import GenerativeModel\n",
    "\n",
    "gen_model = GenerativeModel(lf_propensity=True)\n",
    "gen_model.train(\n",
    "    L_train, deps=deps, epochs=20, decay=0.95, step_size=0.1/L_train.shape[0], init_acc=2.0, reg_param=0.0\n",
    ")"
   ]
  },
  {
   "cell_type": "code",
   "execution_count": 20,
   "metadata": {
    "collapsed": true
   },
   "outputs": [],
   "source": [
    "train_marginals = gen_model.marginals(L_train)"
   ]
  },
  {
   "cell_type": "code",
   "execution_count": 21,
   "metadata": {
    "collapsed": false
   },
   "outputs": [
    {
     "data": {
      "image/png": "[encoded data removed]",
      "text/plain": [
       "<matplotlib.figure.Figure at 0x10cd619d0>"
      ]
     },
     "metadata": {},
     "output_type": "display_data"
    }
   ],
   "source": [
    "import matplotlib.pyplot as plt\n",
    "plt.hist(train_marginals, bins=20)\n",
    "plt.show()"
   ]
  },
  {
   "cell_type": "code",
   "execution_count": 12,
   "metadata": {
    "collapsed": false
   },
   "outputs": [
    {
     "data": {
      "text/plain": [
       "array([ 0.51836183,  0.51932027,  0.51646634,  0.52131749,  0.51721582,\n",
       "        0.51714276,  0.51811749,  0.52283387,  0.5204075 ,  0.52103264,\n",
       "        0.51935841,  0.52018499,  0.52042185])"
      ]
     },
     "execution_count": 12,
     "metadata": {},
     "output_type": "execute_result"
    }
   ],
   "source": [
    "gen_model.weights.lf_accuracy()"
   ]
  },
  {
   "cell_type": "code",
   "execution_count": 22,
   "metadata": {
    "collapsed": false
   },
   "outputs": [
    {
     "name": "stdout",
     "output_type": "stream",
     "text": [
      "Saved 421 training marginals\n"
     ]
    }
   ],
   "source": [
    "from snorkel.annotations import save_marginals\n",
    "save_marginals(session, L_train, train_marginals)"
   ]
  },
  {
   "cell_type": "code",
   "execution_count": 14,
   "metadata": {
    "collapsed": false
   },
   "outputs": [
    {
     "name": "stdout",
     "output_type": "stream",
     "text": [
      "Clearing existing...\n",
      "Running UDF...\n",
      "[========================================] 100%%\n",
      "\n"
     ]
    }
   ],
   "source": [
    "L_dev = labeler.apply_existing(split=0)"
   ]
  },
  {
   "cell_type": "code",
   "execution_count": 15,
   "metadata": {
    "collapsed": false
   },
   "outputs": [
    {
     "ename": "NameError",
     "evalue": "name 'L_gold_dev' is not defined",
     "output_type": "error",
     "traceback": [
      "\u001b[0;31m---------------------------------------------------------------------------\u001b[0m",
      "\u001b[0;31mNameError\u001b[0m                                 Traceback (most recent call last)",
      "\u001b[0;32m<ipython-input-15-d2c9f34e8a1c>\u001b[0m in \u001b[0;36m<module>\u001b[0;34m()\u001b[0m\n\u001b[0;32m----> 1\u001b[0;31m \u001b[0mtp\u001b[0m\u001b[0;34m,\u001b[0m \u001b[0mfp\u001b[0m\u001b[0;34m,\u001b[0m \u001b[0mtn\u001b[0m\u001b[0;34m,\u001b[0m \u001b[0mfn\u001b[0m \u001b[0;34m=\u001b[0m \u001b[0mgen_model\u001b[0m\u001b[0;34m.\u001b[0m\u001b[0mscore\u001b[0m\u001b[0;34m(\u001b[0m\u001b[0msession\u001b[0m\u001b[0;34m,\u001b[0m \u001b[0mL_dev\u001b[0m\u001b[0;34m,\u001b[0m \u001b[0mL_gold_dev\u001b[0m\u001b[0;34m)\u001b[0m\u001b[0;34m\u001b[0m\u001b[0m\n\u001b[0m",
      "\u001b[0;31mNameError\u001b[0m: name 'L_gold_dev' is not defined"
     ]
    }
   ],
   "source": [
    "tp, fp, tn, fn = gen_model.score(session, L_dev, L_gold_dev)"
   ]
  },
  {
   "cell_type": "markdown",
   "metadata": {},
   "source": [
    "# Thomas's Code\n",
    "## `DDLiteModel` objects and feature generation\n",
    "We'll then create a `DDLiteModel` object for our extracted gene candidates. This lets us iterate with our model and labeling functions. Since `Entities` object defines a feature generation method, features are automatically created when we initialize a `DDLiteModel` object. These are generic features from the NLP markup and dependency tree in the neighborhood of the mention. Alternatively, you can define a custom feature set as a NumPy array or a Scipy sparse matrix. Here, we pickle our feature matrix so we don't have to recompute it in the future."
   ]
  },
  {
   "cell_type": "code",
   "execution_count": null,
   "metadata": {
    "collapsed": true
   },
   "outputs": [],
   "source": []
  },
  {
   "cell_type": "code",
   "execution_count": 3,
   "metadata": {
    "collapsed": false
   },
   "outputs": [
    {
     "name": "stdout",
     "output_type": "stream",
     "text": [
      "Extracted 30533 features for each of 1968 mentions\n"
     ]
    }
   ],
   "source": [
    "feats = None\n",
    "\n",
    "pkl_f = 'gene_tag_example/gene_tag_feats_v1.pkl'\n",
    "try:\n",
    "    with open(pkl_f, 'rb') as f:\n",
    "        feats = cPickle.load(f)\n",
    "except:\n",
    "    %time E.extract_features()\n",
    "    with open(pkl_f, 'w+') as f:\n",
    "        cPickle.dump(E.feats, f)\n",
    "\n",
    "DDL = DDLiteModel(E, feats)\n",
    "print \"Extracted {} features for each of {} mentions\".format(DDL.num_feats(), DDL.num_candidates())"
   ]
  },
  {
   "cell_type": "markdown",
   "metadata": {},
   "source": [
    "We need a blind, gold standard ground truth set to evaluate our predictions. We can add these by using the uids for the candidates we want, and align these with a value of 1 for positive or a value of -1 for negative. We'll load in a set now using `DDL.update_gt()` and set it as the holdout. We'll assign half of the holdout to a validation set for parameter tuning, and the other half to a test set."
   ]
  },
  {
   "cell_type": "code",
   "execution_count": 4,
   "metadata": {
    "collapsed": false
   },
   "outputs": [
    {
     "name": "stderr",
     "output_type": "stream",
     "text": [
      "../ddlite.py:602: VisibleDeprecationWarning: using a non-integer number instead of an integer will result in an error in the future\n",
      "  self.dev1 = idxs[ : np.floor(dev_split * len(idxs))]\n",
      "../ddlite.py:603: VisibleDeprecationWarning: using a non-integer number instead of an integer will result in an error in the future\n",
      "  self.dev2 = idxs[np.floor(dev_split * len(idxs)) : ]\n",
      "../ddlite.py:594: VisibleDeprecationWarning: using a non-integer number instead of an integer will result in an error in the future\n",
      "  self.validation = h[ : np.floor(validation_frac * len(h))]\n",
      "../ddlite.py:595: VisibleDeprecationWarning: using a non-integer number instead of an integer will result in an error in the future\n",
      "  self.test = h[np.floor(validation_frac * len(h)) : ]\n"
     ]
    }
   ],
   "source": [
    "with open('gene_tag_example/gt/uids.pkl', 'rb') as f:\n",
    "    uids = cPickle.load(f)\n",
    "with open('gene_tag_example/gt/gt.pkl', 'rb') as f:\n",
    "    gt = cPickle.load(f)\n",
    "    \n",
    "DDL.update_gt(gt[:50], uids=uids[:50])\n",
    "DDL.set_holdout(validation_frac=0.5)"
   ]
  },
  {
   "cell_type": "markdown",
   "metadata": {},
   "source": [
    "## Building a ground truth set with MindTagger\n",
    "In order to evaluate our labeling functions and learning results, we'll create a small set of ground truth labels for some candidates using [Mindtagger](http://deepdive.stanford.edu/labeling). This will highlight each candidate in the sentence in which it appears. We set the response to yes if it is a mention of gene, and no otherwise. If you aren't sure, you can abstain from labeling. In a real application, we would likely want to tag more than 20 candidates."
   ]
  },
  {
   "cell_type": "code",
   "execution_count": 5,
   "metadata": {
    "collapsed": false,
    "scrolled": false
   },
   "outputs": [
    {
     "name": "stdout",
     "output_type": "stream",
     "text": [
      "Making sure MindTagger is installed. Hang on!\n"
     ]
    },
    {
     "data": {
      "text/html": [
       "\n",
       "        <iframe\n",
       "            width=\"100%\"\n",
       "            height=\"1200\"\n",
       "            src=\"http://Sen.local:8113/#/mindtagger/430d959c331c0d86\"\n",
       "            frameborder=\"0\"\n",
       "            allowfullscreen\n",
       "        ></iframe>\n",
       "        "
      ],
      "text/plain": [
       "<IPython.lib.display.IFrame at 0x111143fd0>"
      ]
     },
     "execution_count": 5,
     "metadata": {},
     "output_type": "execute_result"
    }
   ],
   "source": [
    "DDL.open_mindtagger(num_sample=100, width='100%', height=1200)"
   ]
  },
  {
   "cell_type": "markdown",
   "metadata": {},
   "source": [
    "Now, we'll retrieve the tags and add them to our `DDLiteModel`. We can also use a previously defined Mindtagger label set, similar to how we added our gold labels (this time, we'll use indexes instead of uids). These labels are used for evaluating our labeling functions against the *development set*."
   ]
  },
  {
   "cell_type": "code",
   "execution_count": 6,
   "metadata": {
    "collapsed": false
   },
   "outputs": [],
   "source": [
    "DDL.add_mindtagger_tags()"
   ]
  },
  {
   "cell_type": "code",
   "execution_count": 7,
   "metadata": {
    "collapsed": false
   },
   "outputs": [],
   "source": [
    "DDL.update_gt(gt[50:], uids=uids[50:])"
   ]
  },
  {
   "cell_type": "markdown",
   "metadata": {},
   "source": [
    "## Writing labeling functions\n",
    "We'll use data programming to learn a logistic regression model which will predict the probability of a candidate entity being a true gene mention. Since our training data is not manually labeled, we'll generate many (potentially noisy) labels as a surrogate for precise, manual labels. Feature extraction and model learning are very simple in ddlite. Writing labeling functions is where the real artistry comes in. One of ddlite's goals is to enable rapid prototyping, debugging, and experimenting with labeling functions. These can be used either to create a simple standalone app, or to plug into DeepDive. Labeling functions, or LFs, are functions that take an `Candidate` object. They must return 1 (for a positive label), 0 (for abstaining), or -1 (for a negative example). For now, we'll write a few simple LFs to get started:\n",
    "\n",
    "* The first, second, and third LFs return a positive label if the lemma \"gene\", \"mutant\", or \"express\" appear in a window around the mention, respectively\n",
    "* The third LF returns a positive label if the dependency parent of any of the words in the mention is \"mutation\", and abstains otherwise\n",
    "* The fourth, fifth, and sixth LF return a negative label if the mention candidate contains \"DNA\", \"RNA\", or \"SNP\" respectively (these are common uppercase nouns which are not genes) "
   ]
  },
  {
   "cell_type": "code",
   "execution_count": 8,
   "metadata": {
    "collapsed": false
   },
   "outputs": [],
   "source": [
    "def LF_gene(m):\n",
    "    return 1 if ('gene' in m.post_window('lemmas')) or ('gene' in m.pre_window('lemmas')) else 0\n",
    "def LF_gene_dp(m):\n",
    "    return 1 if 'gene' in [m.lemmas[m.dep_parents[i] - 1] for i in m.idxs] else 0\n",
    "def LF_genotype_dp(m):\n",
    "    return 1 if 'genotype' in [m.lemmas[m.dep_parents[i] - 1] for i in m.idxs] else 0\n",
    "def LF_mutant(m):\n",
    "    return 1 if ('mutant' in m.post_window('lemmas')) or ('mutant' in m.pre_window('lemmas')) else 0\n",
    "def LF_variant(m):\n",
    "    return 1 if ('variant' in m.post_window('lemmas')) or ('variant' in m.pre_window('lemmas')) else 0\n",
    "def LF_express(m):\n",
    "    return 1 if ('express' in m.post_window('lemmas')) or ('express' in m.pre_window('lemmas')) else 0\n",
    "def LF_mutation(m):\n",
    "    return 1 if 'mutation' in [m.lemmas[m.dep_parents[i] - 1] for i in m.idxs] else 0\n",
    "def LF_JJ(m):\n",
    "    return 1 if 'JJ' in m.post_window('poses') else 0\n",
    "def LF_IN(m):\n",
    "    return 1 if 'IN' in m.pre_window('poses', 1) else 0\n",
    "\n",
    "def LF_dna(m):\n",
    "    return -1 if 'DNA' in m.mention('words') else 0\n",
    "def LF_rna(m):\n",
    "    return -1 if 'RNA' in m.mention('words') else 0\n",
    "def LF_snp(m):\n",
    "    return -1 if 'SNP' in m.mention('words') else 0\n",
    "def LF_protein(m):\n",
    "    return -1 if 'protein' in m.pre_window('lemmas') else 0\n",
    "def LF_LRB(m):\n",
    "    return -1 if '-LRB-' in m.post_window('poses', 1) else 0\n",
    "def LF_RRB(m):\n",
    "    return -1 if '-RRB-' in m.post_window('poses', 1) else 0\n",
    "def LF_dev_dp(m):\n",
    "    return -1 if 'development' in [m.lemmas[m.dep_parents[i] - 1] for i in m.idxs] else 0\n",
    "def LF_protein_dp(m):\n",
    "    return -1 if 'protein' in [m.lemmas[m.dep_parents[i] - 1] for i in m.idxs] else 0\n",
    "def LF_network_dp(m):\n",
    "    return -1 if 'network' in [m.lemmas[m.dep_parents[i] - 1] for i in m.idxs] else 0\n",
    "def LF_JJ_dp(m):\n",
    "    return -1 if 'JJ' in [m.poses[m.dep_parents[i] - 1] for i in m.idxs] else 0\n",
    "def LF_NNP(m):\n",
    "    return -1 if 'NNP' in m.mention('poses') else 0"
   ]
  },
  {
   "cell_type": "markdown",
   "metadata": {},
   "source": [
    "Our intuition is that the few simple LFs given above won't yield a good model. We'll see this more concretely when we evaluate the labeling functions. For now, let's leave them as is. After writing the LFs, we simply collect them and apply them to mentions. If we define more LFs later, we can apply them incrementally or overwrite all the LFs so far."
   ]
  },
  {
   "cell_type": "code",
   "execution_count": 9,
   "metadata": {
    "collapsed": false
   },
   "outputs": [],
   "source": [
    "LFs = [LF_JJ, LF_JJ_dp, LF_NNP, LF_RRB, LF_dev_dp, LF_dna, LF_express, LF_gene, LF_gene_dp,\n",
    "       LF_genotype_dp, LF_mutant, LF_mutation, LF_network_dp, LF_protein, LF_protein_dp,\n",
    "       LF_rna, LF_snp, LF_variant, LF_IN, LF_LRB]\n",
    "DDL.apply_lfs(LFs, clear=False)"
   ]
  },
  {
   "cell_type": "markdown",
   "metadata": {},
   "source": [
    "We'll use ddlite's LF assessment utilities to debug and analyze our LFs before running inference. First, we'll generate summary plots which show the following:\n",
    "\n",
    "* Do the LFs cover the data well or do we have many candidates for which all of the LFs abstained?\n",
    "* Is there overlap between the LFs? Do many return positive or negative labels for the same candidate?\n",
    "* Do the LFs conflict with each other? Do candidates tend to have many of one type of label, or a mix?"
   ]
  },
  {
   "cell_type": "code",
   "execution_count": 10,
   "metadata": {
    "collapsed": false
   },
   "outputs": [
    {
     "name": "stdout",
     "output_type": "stream",
     "text": [
      "LF stats on training set\n",
      "Coverage:\t69.135%\n",
      "Overlap:\t30.083%\n",
      "Conflict:\t15.276%\n"
     ]
    }
   ],
   "source": [
    "DDL.print_lf_stats()"
   ]
  },
  {
   "cell_type": "code",
   "execution_count": 11,
   "metadata": {
    "collapsed": false,
    "scrolled": true
   },
   "outputs": [
    {
     "data": {
      "image/png": "[encoded data removed]",
      "text/plain": [
       "<matplotlib.figure.Figure at 0x111461550>"
      ]
     },
     "metadata": {},
     "output_type": "display_data"
    }
   ],
   "source": [
    "DDL.plot_lf_stats()"
   ]
  },
  {
   "cell_type": "markdown",
   "metadata": {},
   "source": [
    "As we may expect, the few LFs do not cover the data very well. We can switch to an LF view of these measures and show tables for the LFs with the most conflict, lowest coverage, and lowest empirical accuracy as compared to the development set labels."
   ]
  },
  {
   "cell_type": "code",
   "execution_count": 12,
   "metadata": {
    "collapsed": false
   },
   "outputs": [
    {
     "data": {
      "text/html": [
       "<table><tr><td><b>Labeling function</b></td><td><b>Percent candidates where LF has conflict</b></td></tr><tr><td>LF_IN</td><td>7.98%</td></tr><tr><td>LF_NNP</td><td>6.52%</td></tr><tr><td>LF_JJ</td><td>5.27%</td></tr></table>"
      ],
      "text/plain": [
       "DictTable([('LF_IN', ['7.98%']),\n",
       "           ('LF_NNP', ['6.52%']),\n",
       "           ('LF_JJ', ['5.27%']),\n",
       "           ('LF_RRB', ['3.49%']),\n",
       "           ('LF_gene', ['2.76%']),\n",
       "           ('LF_LRB', ['2.45%']),\n",
       "           ('LF_JJ_dp', ['1.46%']),\n",
       "           ('LF_gene_dp', ['1.15%']),\n",
       "           ('LF_mutation', ['0.99%']),\n",
       "           ('LF_dna', ['0.63%']),\n",
       "           ('LF_protein_dp', ['0.63%']),\n",
       "           ('LF_mutant', ['0.57%']),\n",
       "           ('LF_variant', ['0.52%']),\n",
       "           ('LF_snp', ['0.36%']),\n",
       "           ('LF_express', ['0.31%']),\n",
       "           ('LF_rna', ['0.31%']),\n",
       "           ('LF_dev_dp', ['0.21%']),\n",
       "           ('LF_protein', ['0.21%']),\n",
       "           ('LF_genotype_dp', ['0.10%']),\n",
       "           ('LF_network_dp', ['0.00%'])])"
      ]
     },
     "execution_count": 12,
     "metadata": {},
     "output_type": "execute_result"
    }
   ],
   "source": [
    "DDL.top_conflict_lfs(n=3)"
   ]
  },
  {
   "cell_type": "code",
   "execution_count": 13,
   "metadata": {
    "collapsed": false
   },
   "outputs": [
    {
     "data": {
      "text/html": [
       "<table><tr><td><b>Labeling function</b></td><td><b>Candidate coverage</b></td></tr><tr><td>LF_network_dp</td><td>0.10%</td></tr><tr><td>LF_dev_dp</td><td>0.21%</td></tr><tr><td>LF_express</td><td>0.78%</td></tr></table>"
      ],
      "text/plain": [
       "DictTable([('LF_network_dp', ['0.10%']),\n",
       "           ('LF_dev_dp', ['0.21%']),\n",
       "           ('LF_express', ['0.78%']),\n",
       "           ('LF_rna', ['0.89%']),\n",
       "           ('LF_protein', ['0.94%']),\n",
       "           ('LF_genotype_dp', ['0.99%']),\n",
       "           ('LF_mutant', ['1.25%']),\n",
       "           ('LF_snp', ['1.36%']),\n",
       "           ('LF_protein_dp', ['1.51%']),\n",
       "           ('LF_dna', ['1.98%']),\n",
       "           ('LF_NNP', ['10.74%']),\n",
       "           ('LF_RRB', ['13.50%']),\n",
       "           ('LF_JJ', ['16.48%']),\n",
       "           ('LF_JJ_dp', ['2.61%']),\n",
       "           ('LF_IN', ['26.23%']),\n",
       "           ('LF_variant', ['3.18%']),\n",
       "           ('LF_LRB', ['4.59%']),\n",
       "           ('LF_mutation', ['4.90%']),\n",
       "           ('LF_gene_dp', ['5.84%']),\n",
       "           ('LF_gene', ['8.86%'])])"
      ]
     },
     "execution_count": 13,
     "metadata": {},
     "output_type": "execute_result"
    }
   ],
   "source": [
    "DDL.lowest_coverage_lfs(n=3)"
   ]
  },
  {
   "cell_type": "code",
   "execution_count": 14,
   "metadata": {
    "collapsed": false,
    "scrolled": false
   },
   "outputs": [
    {
     "name": "stdout",
     "output_type": "stream",
     "text": [
      "100% accuracy and 0 generalization score are \"perfect\"\n"
     ]
    },
    {
     "name": "stderr",
     "output_type": "stream",
     "text": [
      "../ddlite.py:564: UserWarning: Dev sets are too small for reliable estimates\n",
      "  warnings.warn(\"Dev sets are too small for reliable estimates\")\n"
     ]
    },
    {
     "data": {
      "text/html": [
       "<table style=\"margin-right: 1%;float: left\"><tr><td><b>Labeling function</b></td><td><b>Positive accuracy</b></td><td><b>Gen. score</b></td></tr><tr><td>LF_mutant</td><td>0.00% (n=0)</td><td>0.00 (n=0)</td></tr><tr><td>LF_express</td><td>0.00% (n=0)</td><td>0.00 (n=0)</td></tr><tr><td>LF_gene_dp</td><td>0.00% (n=0)</td><td>1.00 (n=3)</td></tr><tr><td>LF_IN</td><td>33.33% (n=6)</td><td>0.27 (n=5)</td></tr><tr><td>LF_JJ</td><td>50.00% (n=4)</td><td>0.00 (n=4)</td></tr><tr><td>LF_gene</td><td>100.00% (n=1)</td><td>0.00 (n=3)</td></tr><tr><td>LF_variant</td><td>100.00% (n=2)</td><td>0.00 (n=1)</td></tr><tr><td>LF_mutation</td><td>100.00% (n=1)</td><td>0.00 (n=1)</td></tr><tr><td>LF_genotype_dp</td><td>100.00% (n=2)</td><td>0.00 (n=1)</td></tr></table><table style=\"float: left\"><tr><td><b>Labeling function</b></td><td><b>Negative accuracy</b></td><td><b>Gen. score</b></td></tr><tr><td>LF_snp</td><td>0.00% (n=0)</td><td>1.00 (n=1)</td></tr><tr><td>LF_network_dp</td><td>0.00% (n=0)</td><td>0.00 (n=0)</td></tr><tr><td>LF_dna</td><td>0.00% (n=0)</td><td>1.00 (n=1)</td></tr><tr><td>LF_LRB</td><td>0.00% (n=0)</td><td>0.00 (n=0)</td></tr><tr><td>LF_rna</td><td>0.00% (n=0)</td><td>0.00 (n=0)</td></tr><tr><td>LF_RRB</td><td>75.00% (n=4)</td><td>0.25 (n=1)</td></tr><tr><td>LF_JJ_dp</td><td>100.00% (n=1)</td><td>1.00 (n=0)</td></tr><tr><td>LF_dev_dp</td><td>100.00% (n=1)</td><td>1.00 (n=0)</td></tr><tr><td>LF_protein_dp</td><td>100.00% (n=1)</td><td>1.00 (n=0)</td></tr><tr><td>LF_NNP</td><td>100.00% (n=3)</td><td>0.00 (n=2)</td></tr></table>"
      ],
      "text/plain": [
       "<ddlite.SideTables instance at 0x1116f6290>"
      ]
     },
     "execution_count": 14,
     "metadata": {},
     "output_type": "execute_result"
    }
   ],
   "source": [
    "DDL.lowest_empirical_accuracy_lfs(n=10)"
   ]
  },
  {
   "cell_type": "code",
   "execution_count": 15,
   "metadata": {
    "collapsed": false,
    "scrolled": true
   },
   "outputs": [
    {
     "data": {
      "text/html": [
       "<table><tr><td><b>Labeling<br />function</b></td><td><b>Label<br />type</b></td><td><b>Candidate<br />coverage</b></td><td><b>Candidate<br />conflict</b></td><td><b>Positive<br />accuracy</b></td><td><b>Positive<br />gen. score</b></td><td><b>Negative<br />accuracy</b></td><td><b>Negative<br />gen. score</b></td></tr><tr><td><b><font color=\"#ee0b40\">LF_rna</font></b></td><td>Negative</td><td>0.89%</td><td>0.31%</td><td>N/A</td><td>N/A</td><td>0.00% (n=0)</td><td>0.00 (n=0)</td></tr><tr><td><b><font color=\"#ee0b40\">LF_dev_dp</font></b></td><td>Negative</td><td>0.21%</td><td>0.21%</td><td>N/A</td><td>N/A</td><td>100.00% (n=1)</td><td>1.00 (n=0)</td></tr><tr><td><b><font color=\"#ee0b40\">LF_protein</font></b></td><td>Negative</td><td>0.94%</td><td>0.21%</td><td>N/A</td><td>N/A</td><td>100.00% (n=1)</td><td>1.00 (n=0)</td></tr><tr><td><b><font color=\"#ee0b40\">LF_NNP</font></b></td><td>Negative</td><td>10.74%</td><td>6.52%</td><td>N/A</td><td>N/A</td><td>100.00% (n=3)</td><td>0.00 (n=2)</td></tr><tr><td><b><font color=\"#ee0b40\">LF_LRB</font></b></td><td>Negative</td><td>4.59%</td><td>2.45%</td><td>N/A</td><td>N/A</td><td>0.00% (n=0)</td><td>0.00 (n=0)</td></tr><tr><td><b><font color=\"#ee0b40\">LF_JJ_dp</font></b></td><td>Negative</td><td>2.61%</td><td>1.46%</td><td>N/A</td><td>N/A</td><td>100.00% (n=1)</td><td>1.00 (n=0)</td></tr><tr><td><b><font color=\"#ee0b40\">LF_protein_dp</font></b></td><td>Negative</td><td>1.51%</td><td>0.63%</td><td>N/A</td><td>N/A</td><td>100.00% (n=1)</td><td>1.00 (n=0)</td></tr><tr><td><b><font color=\"#ee0b40\">LF_network_dp</font></b></td><td>Negative</td><td>0.10%</td><td>0.00%</td><td>N/A</td><td>N/A</td><td>0.00% (n=0)</td><td>0.00 (n=0)</td></tr><tr><td><b><font color=\"#ee0b40\">LF_RRB</font></b></td><td>Negative</td><td>13.50%</td><td>3.49%</td><td>N/A</td><td>N/A</td><td>75.00% (n=4)</td><td>0.25 (n=1)</td></tr><tr><td><b><font color=\"#ee0b40\">LF_snp</font></b></td><td>Negative</td><td>1.36%</td><td>0.36%</td><td>N/A</td><td>N/A</td><td>0.00% (n=0)</td><td>1.00 (n=1)</td></tr><tr><td><b><font color=\"#ee0b40\">LF_dna</font></b></td><td>Negative</td><td>1.98%</td><td>0.63%</td><td>N/A</td><td>N/A</td><td>0.00% (n=0)</td><td>1.00 (n=1)</td></tr><tr><td><b><font color=\"#0099ff\">LF_express</font></b></td><td>Positive</td><td>0.78%</td><td>0.31%</td><td>0.00% (n=0)</td><td>0.00 (n=0)</td><td>N/A</td><td>N/A</td></tr><tr><td><b><font color=\"#0099ff\">LF_variant</font></b></td><td>Positive</td><td>3.18%</td><td>0.52%</td><td>100.00% (n=2)</td><td>0.00 (n=1)</td><td>N/A</td><td>N/A</td></tr><tr><td><b><font color=\"#0099ff\">LF_IN</font></b></td><td>Positive</td><td>26.23%</td><td>7.98%</td><td>33.33% (n=6)</td><td>0.27 (n=5)</td><td>N/A</td><td>N/A</td></tr><tr><td><b><font color=\"#0099ff\">LF_mutation</font></b></td><td>Positive</td><td>4.90%</td><td>0.99%</td><td>100.00% (n=1)</td><td>0.00 (n=1)</td><td>N/A</td><td>N/A</td></tr><tr><td><b><font color=\"#0099ff\">LF_gene_dp</font></b></td><td>Positive</td><td>5.84%</td><td>1.15%</td><td>0.00% (n=0)</td><td>1.00 (n=3)</td><td>N/A</td><td>N/A</td></tr><tr><td><b><font color=\"#0099ff\">LF_genotype_dp</font></b></td><td>Positive</td><td>0.99%</td><td>0.10%</td><td>100.00% (n=2)</td><td>0.00 (n=1)</td><td>N/A</td><td>N/A</td></tr><tr><td><b><font color=\"#0099ff\">LF_JJ</font></b></td><td>Positive</td><td>16.48%</td><td>5.27%</td><td>50.00% (n=4)</td><td>0.00 (n=4)</td><td>N/A</td><td>N/A</td></tr><tr><td><b><font color=\"#0099ff\">LF_gene</font></b></td><td>Positive</td><td>8.86%</td><td>2.76%</td><td>100.00% (n=1)</td><td>0.00 (n=3)</td><td>N/A</td><td>N/A</td></tr><tr><td><b><font color=\"#0099ff\">LF_mutant</font></b></td><td>Positive</td><td>1.25%</td><td>0.57%</td><td>0.00% (n=0)</td><td>0.00 (n=0)</td><td>N/A</td><td>N/A</td></tr></table>"
      ],
      "text/plain": [
       "DictTable([('<b><font color=\"#ee0b40\">LF_rna</font></b>',\n",
       "            ['Negative',\n",
       "             '0.89%',\n",
       "             '0.31%',\n",
       "             'N/A',\n",
       "             'N/A',\n",
       "             '0.00% (n=0)',\n",
       "             '0.00 (n=0)']),\n",
       "           ('<b><font color=\"#ee0b40\">LF_dev_dp</font></b>',\n",
       "            ['Negative',\n",
       "             '0.21%',\n",
       "             '0.21%',\n",
       "             'N/A',\n",
       "             'N/A',\n",
       "             '100.00% (n=1)',\n",
       "             '1.00 (n=0)']),\n",
       "           ('<b><font color=\"#ee0b40\">LF_protein</font></b>',\n",
       "            ['Negative',\n",
       "             '0.94%',\n",
       "             '0.21%',\n",
       "             'N/A',\n",
       "             'N/A',\n",
       "             '100.00% (n=1)',\n",
       "             '1.00 (n=0)']),\n",
       "           ('<b><font color=\"#ee0b40\">LF_NNP</font></b>',\n",
       "            ['Negative',\n",
       "             '10.74%',\n",
       "             '6.52%',\n",
       "             'N/A',\n",
       "             'N/A',\n",
       "             '100.00% (n=3)',\n",
       "             '0.00 (n=2)']),\n",
       "           ('<b><font color=\"#ee0b40\">LF_LRB</font></b>',\n",
       "            ['Negative',\n",
       "             '4.59%',\n",
       "             '2.45%',\n",
       "             'N/A',\n",
       "             'N/A',\n",
       "             '0.00% (n=0)',\n",
       "             '0.00 (n=0)']),\n",
       "           ('<b><font color=\"#ee0b40\">LF_JJ_dp</font></b>',\n",
       "            ['Negative',\n",
       "             '2.61%',\n",
       "             '1.46%',\n",
       "             'N/A',\n",
       "             'N/A',\n",
       "             '100.00% (n=1)',\n",
       "             '1.00 (n=0)']),\n",
       "           ('<b><font color=\"#ee0b40\">LF_protein_dp</font></b>',\n",
       "            ['Negative',\n",
       "             '1.51%',\n",
       "             '0.63%',\n",
       "             'N/A',\n",
       "             'N/A',\n",
       "             '100.00% (n=1)',\n",
       "             '1.00 (n=0)']),\n",
       "           ('<b><font color=\"#ee0b40\">LF_network_dp</font></b>',\n",
       "            ['Negative',\n",
       "             '0.10%',\n",
       "             '0.00%',\n",
       "             'N/A',\n",
       "             'N/A',\n",
       "             '0.00% (n=0)',\n",
       "             '0.00 (n=0)']),\n",
       "           ('<b><font color=\"#ee0b40\">LF_RRB</font></b>',\n",
       "            ['Negative',\n",
       "             '13.50%',\n",
       "             '3.49%',\n",
       "             'N/A',\n",
       "             'N/A',\n",
       "             '75.00% (n=4)',\n",
       "             '0.25 (n=1)']),\n",
       "           ('<b><font color=\"#ee0b40\">LF_snp</font></b>',\n",
       "            ['Negative',\n",
       "             '1.36%',\n",
       "             '0.36%',\n",
       "             'N/A',\n",
       "             'N/A',\n",
       "             '0.00% (n=0)',\n",
       "             '1.00 (n=1)']),\n",
       "           ('<b><font color=\"#ee0b40\">LF_dna</font></b>',\n",
       "            ['Negative',\n",
       "             '1.98%',\n",
       "             '0.63%',\n",
       "             'N/A',\n",
       "             'N/A',\n",
       "             '0.00% (n=0)',\n",
       "             '1.00 (n=1)']),\n",
       "           ('<b><font color=\"#0099ff\">LF_express</font></b>',\n",
       "            ['Positive',\n",
       "             '0.78%',\n",
       "             '0.31%',\n",
       "             '0.00% (n=0)',\n",
       "             '0.00 (n=0)',\n",
       "             'N/A',\n",
       "             'N/A']),\n",
       "           ('<b><font color=\"#0099ff\">LF_variant</font></b>',\n",
       "            ['Positive',\n",
       "             '3.18%',\n",
       "             '0.52%',\n",
       "             '100.00% (n=2)',\n",
       "             '0.00 (n=1)',\n",
       "             'N/A',\n",
       "             'N/A']),\n",
       "           ('<b><font color=\"#0099ff\">LF_IN</font></b>',\n",
       "            ['Positive',\n",
       "             '26.23%',\n",
       "             '7.98%',\n",
       "             '33.33% (n=6)',\n",
       "             '0.27 (n=5)',\n",
       "             'N/A',\n",
       "             'N/A']),\n",
       "           ('<b><font color=\"#0099ff\">LF_mutation</font></b>',\n",
       "            ['Positive',\n",
       "             '4.90%',\n",
       "             '0.99%',\n",
       "             '100.00% (n=1)',\n",
       "             '0.00 (n=1)',\n",
       "             'N/A',\n",
       "             'N/A']),\n",
       "           ('<b><font color=\"#0099ff\">LF_gene_dp</font></b>',\n",
       "            ['Positive',\n",
       "             '5.84%',\n",
       "             '1.15%',\n",
       "             '0.00% (n=0)',\n",
       "             '1.00 (n=3)',\n",
       "             'N/A',\n",
       "             'N/A']),\n",
       "           ('<b><font color=\"#0099ff\">LF_genotype_dp</font></b>',\n",
       "            ['Positive',\n",
       "             '0.99%',\n",
       "             '0.10%',\n",
       "             '100.00% (n=2)',\n",
       "             '0.00 (n=1)',\n",
       "             'N/A',\n",
       "             'N/A']),\n",
       "           ('<b><font color=\"#0099ff\">LF_JJ</font></b>',\n",
       "            ['Positive',\n",
       "             '16.48%',\n",
       "             '5.27%',\n",
       "             '50.00% (n=4)',\n",
       "             '0.00 (n=4)',\n",
       "             'N/A',\n",
       "             'N/A']),\n",
       "           ('<b><font color=\"#0099ff\">LF_gene</font></b>',\n",
       "            ['Positive',\n",
       "             '8.86%',\n",
       "             '2.76%',\n",
       "             '100.00% (n=1)',\n",
       "             '0.00 (n=3)',\n",
       "             'N/A',\n",
       "             'N/A']),\n",
       "           ('<b><font color=\"#0099ff\">LF_mutant</font></b>',\n",
       "            ['Positive',\n",
       "             '1.25%',\n",
       "             '0.57%',\n",
       "             '0.00% (n=0)',\n",
       "             '0.00 (n=0)',\n",
       "             'N/A',\n",
       "             'N/A'])])"
      ]
     },
     "execution_count": 15,
     "metadata": {},
     "output_type": "execute_result"
    }
   ],
   "source": [
    "DDL.lf_summary_table()"
   ]
  },
  {
   "cell_type": "markdown",
   "metadata": {},
   "source": [
    "Since our development set is small, we can't evaluate LF performance particularly well. If we observe LFs with very low accuracy, poor generalization, and a sufficiently large sample size, this could be an indication that the LF is buggy."
   ]
  },
  {
   "cell_type": "markdown",
   "metadata": {},
   "source": [
    "## Learning\n",
    "To learn weights for the features and LFs, we use a simple, regularized logistic regression model. Again, the results won't be meaningful without more LFs. We'll tell ddlite to log the results and print out a summary table"
   ]
  },
  {
   "cell_type": "code",
   "execution_count": 16,
   "metadata": {
    "collapsed": false,
    "scrolled": true
   },
   "outputs": [
    {
     "name": "stdout",
     "output_type": "stream",
     "text": [
      "Begin training for rate=0.01, mu=1e-07\n",
      "\tLearning epoch = 0\tGradient mag. = 0.094753\n",
      "\tLearning epoch = 250\tGradient mag. = 0.103007\n",
      "Final gradient magnitude for rate=0.01, mu=1e-07: 0.110\n",
      "Begin training for rate=0.01, mu=1e-09\n",
      "\tLearning epoch = 0\tGradient mag. = 0.027539\n",
      "\tLearning epoch = 250\tGradient mag. = 0.028324\n",
      "\tLearning epoch = 500\tGradient mag. = 0.027695\n",
      "\tLearning epoch = 750\tGradient mag. = 0.027098\n",
      "\tLearning epoch = 1000\tGradient mag. = 0.026531\n",
      "\tLearning epoch = 1250\tGradient mag. = 0.025994\n",
      "\tLearning epoch = 1500\tGradient mag. = 0.025483\n",
      "\tLearning epoch = 1750\tGradient mag. = 0.024998\n",
      "\tLearning epoch = 2000\tGradient mag. = 0.024538\n",
      "\tLearning epoch = 2250\tGradient mag. = 0.024099\n",
      "\tLearning epoch = 2500\tGradient mag. = 0.023682\n",
      "\tLearning epoch = 2750\tGradient mag. = 0.023284\n",
      "Final gradient magnitude for rate=0.01, mu=1e-09: 0.023\n",
      "Begin training for rate=0.01, mu=1e-05\n",
      "\tLearning epoch = 0\tGradient mag. = 0.027539\n",
      "\tLearning epoch = 250\tGradient mag. = 0.028325\n",
      "\tLearning epoch = 500\tGradient mag. = 0.027696\n",
      "\tLearning epoch = 750\tGradient mag. = 0.027099\n",
      "\tLearning epoch = 1000\tGradient mag. = 0.026533\n",
      "\tLearning epoch = 1250\tGradient mag. = 0.025996\n",
      "\tLearning epoch = 1500\tGradient mag. = 0.025486\n",
      "\tLearning epoch = 1750\tGradient mag. = 0.025002\n",
      "\tLearning epoch = 2000\tGradient mag. = 0.024541\n",
      "\tLearning epoch = 2250\tGradient mag. = 0.024103\n",
      "\tLearning epoch = 2500\tGradient mag. = 0.023686\n",
      "\tLearning epoch = 2750\tGradient mag. = 0.023289\n",
      "Final gradient magnitude for rate=0.01, mu=1e-05: 0.023\n",
      "Begin training for rate=0.01, mu=0.001\n",
      "\tLearning epoch = 0\tGradient mag. = 0.027539\n",
      "\tLearning epoch = 250\tGradient mag. = 0.028372\n",
      "\tLearning epoch = 500\tGradient mag. = 0.027788\n",
      "\tLearning epoch = 750\tGradient mag. = 0.027236\n",
      "\tLearning epoch = 1000\tGradient mag. = 0.026714\n",
      "\tLearning epoch = 1250\tGradient mag. = 0.026218\n",
      "\tLearning epoch = 1500\tGradient mag. = 0.025749\n",
      "\tLearning epoch = 1750\tGradient mag. = 0.025304\n",
      "\tLearning epoch = 2000\tGradient mag. = 0.024881\n",
      "\tLearning epoch = 2250\tGradient mag. = 0.024480\n",
      "\tLearning epoch = 2500\tGradient mag. = 0.024099\n",
      "\tLearning epoch = 2750\tGradient mag. = 0.023737\n",
      "Final gradient magnitude for rate=0.01, mu=0.001: 0.023\n",
      "Begin training for rate=0.01, mu=0.1\n",
      "\tLearning epoch = 0\tGradient mag. = 0.027539\n",
      "SGD converged for mu=0.1 after 10 steps\n"
     ]
    },
    {
     "data": {
      "image/png": "[encoded data removed]",
      "text/plain": [
       "<matplotlib.figure.Figure at 0x111564710>"
      ]
     },
     "metadata": {},
     "output_type": "display_data"
    },
    {
     "name": "stdout",
     "output_type": "stream",
     "text": [
      "CPU times: user 18 s, sys: 213 ms, total: 18.2 s\n",
      "Wall time: 18.2 s\n"
     ]
    },
    {
     "data": {
      "text/html": [
       "<table><tr><td><b>ID</b></td><td><b># LFs</b></td><td><b>Test set size</b></td><td><b>Model</b></td><td><b>Precision</b></td><td><b>Recall</b></td><td><b>F1</b></td></tr><tr><td>0</td><td>20</td><td>25</td><td>Logistic regression</td><td>0.500</td><td>1.000</td><td>0.667</td></tr></table><table><tr><td><b>LF</b></td></tr><tr><td>LF_JJ</td></tr><tr><td>LF_JJ_dp</td></tr><tr><td>LF_NNP</td></tr><tr><td>LF_RRB</td></tr><tr><td>LF_dev_dp</td></tr><tr><td>LF_dna</td></tr><tr><td>LF_express</td></tr><tr><td>LF_gene</td></tr><tr><td>LF_gene_dp</td></tr><tr><td>LF_genotype_dp</td></tr><tr><td>LF_mutant</td></tr><tr><td>LF_mutation</td></tr><tr><td>LF_network_dp</td></tr><tr><td>LF_protein</td></tr><tr><td>LF_protein_dp</td></tr><tr><td>LF_rna</td></tr><tr><td>LF_snp</td></tr><tr><td>LF_variant</td></tr><tr><td>LF_IN</td></tr><tr><td>LF_LRB</td></tr></table>"
      ],
      "text/plain": [
       "<ddlite.ModelLog instance at 0x10fe581b8>"
      ]
     },
     "execution_count": 16,
     "metadata": {},
     "output_type": "execute_result"
    }
   ],
   "source": [
    "matplotlib.rcParams['figure.figsize'] = (12,4)\n",
    "mu_seq = np.ravel([1e-9, 1e-5, 1e-3, 1e-1])\n",
    "lf_opts = {'sample': False, 'verbose': True}\n",
    "model_opts = {'sample': False, 'n_iter': 3000, 'alpha': 0.5, 'mu': mu_seq, 'bias': False, 'verbose': True}\n",
    "%time DDL.train_model(method='lr', lf_opts=lf_opts, model_opts=model_opts)"
   ]
  },
  {
   "cell_type": "markdown",
   "metadata": {},
   "source": [
    "We can use [DeepDive-style calibration plots](http://deepdive.stanford.edu/calibration) to evaluate the quality of our predictions."
   ]
  },
  {
   "cell_type": "code",
   "execution_count": 17,
   "metadata": {
    "collapsed": false
   },
   "outputs": [
    {
     "name": "stderr",
     "output_type": "stream",
     "text": [
      "/usr/local/lib/python2.7/site-packages/numpy-1.11.0-py2.7-macosx-10.11-x86_64.egg/numpy/core/_methods.py:59: RuntimeWarning: Mean of empty slice.\n",
      "  warnings.warn(\"Mean of empty slice.\", RuntimeWarning)\n"
     ]
    },
    {
     "data": {
      "image/png": "[encoded data removed]",
      "text/plain": [
       "<matplotlib.figure.Figure at 0x10fed58d0>"
      ]
     },
     "metadata": {},
     "output_type": "display_data"
    }
   ],
   "source": [
    "DDL.plot_calibration()"
   ]
  },
  {
   "cell_type": "markdown",
   "metadata": {},
   "source": [
    "Since we used pipeline learning, we can also see the gain in accuracy we got from using features and not just LFs as a collection of rules."
   ]
  },
  {
   "cell_type": "code",
   "execution_count": 18,
   "metadata": {
    "collapsed": false
   },
   "outputs": [
    {
     "name": "stdout",
     "output_type": "stream",
     "text": [
      "LF accuracy: 0.680\n",
      "Full model accuracy: 0.700\n"
     ]
    }
   ],
   "source": [
    "idxs, gt = DDL.get_labeled_ground_truth(subset=DDL.holdout())\n",
    "acc_feats = np.mean(DDL.get_predicted(subset=DDL.holdout()) == gt)\n",
    "acc_lfs = np.mean(DDL.get_lf_predicted(subset=DDL.holdout()) == gt)\n",
    "print \"LF accuracy: {:.3f}\\nFull model accuracy: {:.3f}\".format(acc_lfs, acc_feats)"
   ]
  },
  {
   "cell_type": "markdown",
   "metadata": {},
   "source": [
    "## Iterating with labeling functions\n",
    "After analyzing our LFs and obtaining model results, we can revise our LF set. We can see all of the results thus far, and reopen MindTagger to see some mentions that aren't currently covered by LFs."
   ]
  },
  {
   "cell_type": "code",
   "execution_count": 19,
   "metadata": {
    "collapsed": false
   },
   "outputs": [
    {
     "data": {
      "text/html": [
       "<table><tr><td><b>ID</b></td><td><b># LFs</b></td><td><b>Test set size</b></td><td><b>Model</b></td><td><b>Precision</b></td><td><b>Recall</b></td><td><b>F1</b></td></tr><tr><td>0</td><td>20</td><td>25</td><td>Logistic regression</td><td>0.500</td><td>1.000</td><td>0.667</td></tr></table>"
      ],
      "text/plain": [
       "<ddlite.ModelLogger instance at 0x1113e2bd8>"
      ]
     },
     "execution_count": 19,
     "metadata": {},
     "output_type": "execute_result"
    }
   ],
   "source": [
    "DDL.show_log()"
   ]
  },
  {
   "cell_type": "code",
   "execution_count": 20,
   "metadata": {
    "collapsed": false,
    "scrolled": true
   },
   "outputs": [
    {
     "name": "stdout",
     "output_type": "stream",
     "text": [
      "Making sure MindTagger is installed. Hang on!\n"
     ]
    },
    {
     "data": {
      "text/html": [
       "\n",
       "        <iframe\n",
       "            width=\"100%\"\n",
       "            height=\"1200\"\n",
       "            src=\"http://Sen.local:8113/#/mindtagger/19309c32c02a5c28\"\n",
       "            frameborder=\"0\"\n",
       "            allowfullscreen\n",
       "        ></iframe>\n",
       "        "
      ],
      "text/plain": [
       "<IPython.lib.display.IFrame at 0x110ad5290>"
      ]
     },
     "execution_count": 20,
     "metadata": {},
     "output_type": "execute_result"
    }
   ],
   "source": [
    "DDL.open_mindtagger(width='100%', height=1200, abstain=True)"
   ]
  },
  {
   "cell_type": "markdown",
   "metadata": {},
   "source": [
    "In order to use LSTM to learn weights, we just just call the following functions."
   ]
  },
  {
   "cell_type": "code",
   "execution_count": 21,
   "metadata": {
    "collapsed": false,
    "scrolled": false
   },
   "outputs": [
    {
     "name": "stdout",
     "output_type": "stream",
     "text": [
      "Begin training for rate=0.01, mu=1e-07\n",
      "\tLearning epoch = 0\tGradient mag. = 0.094753\n",
      "\tLearning epoch = 250\tGradient mag. = 0.103007\n",
      "Final gradient magnitude for rate=0.01, mu=1e-07: 0.110\n",
      "Epoch #0, Training error: 0.508863\n",
      "Epoch #1, Training error: 0.508863\n",
      "Epoch #2, Training error: 0.508863\n",
      "Epoch #3, Training error: 0.508863\n",
      "Epoch #4, Training error: 0.508863\n",
      "Epoch #5, Training error: 0.508863\n",
      "Epoch #6, Training error: 0.508863\n",
      "Epoch #7, Training error: 0.508863\n",
      "Epoch #8, Training error: 0.508863\n",
      "Epoch #9, Training error: 0.508863\n",
      "Epoch #10, Training error: 0.508863\n",
      "Epoch #11, Training error: 0.508863\n",
      "Epoch #12, Training error: 0.508863\n",
      "Epoch #13, Training error: 0.508863\n",
      "Epoch #14, Training error: 0.508863\n",
      "Epoch #15, Training error: 0.508863\n",
      "Epoch #16, Training error: 0.508863\n",
      "Epoch #17, Training error: 0.508863\n",
      "Epoch #18, Training error: 0.508863\n",
      "Epoch #19, Training error: 0.508863\n",
      "Epoch #20, Training error: 0.508863\n",
      "Epoch #21, Training error: 0.508863\n",
      "Epoch #22, Training error: 0.508863\n",
      "Epoch #23, Training error: 0.508863\n",
      "Epoch #24, Training error: 0.508863\n",
      "Epoch #25, Training error: 0.508863\n",
      "Epoch #26, Training error: 0.508863\n",
      "Epoch #27, Training error: 0.508863\n",
      "Epoch #28, Training error: 0.508863\n",
      "Epoch #29, Training error: 0.508863\n",
      "Epoch #30, Training error: 0.508863\n",
      "Epoch #31, Training error: 0.508863\n",
      "Epoch #32, Training error: 0.508863\n",
      "Epoch #33, Training error: 0.508863\n",
      "Epoch #34, Training error: 0.508863\n",
      "Epoch #35, Training error: 0.508863\n",
      "Epoch #36, Training error: 0.508863\n",
      "Epoch #37, Training error: 0.508863\n",
      "Epoch #38, Training error: 0.508863\n",
      "Epoch #39, Training error: 0.508863\n",
      "Epoch #40, Training error: 0.508863\n",
      "Epoch #41, Training error: 0.508863\n",
      "Epoch #42, Training error: 0.508863\n",
      "Epoch #43, Training error: 0.508863\n",
      "Epoch #44, Training error: 0.508863\n",
      "Epoch #45, Training error: 0.508863\n",
      "Epoch #46, Training error: 0.508863\n",
      "Epoch #47, Training error: 0.508863\n",
      "Epoch #48, Training error: 0.508863\n",
      "Epoch #49, Training error: 0.508863\n",
      "Epoch #50, Training error: 0.508863\n",
      "Epoch #51, Training error: 0.508863\n",
      "Epoch #52, Training error: 0.508863\n",
      "Epoch #53, Training error: 0.508863\n",
      "Epoch #54, Training error: 0.508863\n",
      "Epoch #55, Training error: 0.508863\n",
      "Epoch #56, Training error: 0.508863\n",
      "Epoch #57, Training error: 0.508863\n",
      "Epoch #58, Training error: 0.508863\n",
      "Epoch #59, Training error: 0.508863\n",
      "Epoch #60, Training error: 0.508863\n",
      "Epoch #61, Training error: 0.508863\n",
      "Epoch #62, Training error: 0.508863\n",
      "Epoch #63, Training error: 0.508863\n",
      "Epoch #64, Training error: 0.508863\n",
      "Epoch #65, Training error: 0.508863\n",
      "Epoch #66, Training error: 0.508863\n",
      "Epoch #67, Training error: 0.508863\n",
      "Epoch #68, Training error: 0.508863\n",
      "Epoch #69, Training error: 0.508863\n",
      "Epoch #70, Training error: 0.508863\n",
      "Epoch #71, Training error: 0.508863\n",
      "Epoch #72, Training error: 0.508863\n",
      "Epoch #73, Training error: 0.508863\n",
      "Epoch #74, Training error: 0.508863\n",
      "Epoch #75, Training error: 0.508863\n",
      "Epoch #76, Training error: 0.508863\n",
      "Epoch #77, Training error: 0.508863\n",
      "Epoch #78, Training error: 0.508863\n",
      "Epoch #79, Training error: 0.508863\n",
      "Epoch #80, Training error: 0.508863\n",
      "Epoch #81, Training error: 0.508863\n",
      "Epoch #82, Training error: 0.508863\n",
      "Epoch #83, Training error: 0.508863\n",
      "Epoch #84, Training error: 0.508863\n",
      "Epoch #85, Training error: 0.508863\n",
      "Epoch #86, Training error: 0.508863\n",
      "Epoch #87, Training error: 0.508863\n",
      "Epoch #88, Training error: 0.508863\n",
      "Epoch #89, Training error: 0.508863\n",
      "Epoch #90, Training error: 0.508863\n",
      "Epoch #91, Training error: 0.508863\n",
      "Epoch #92, Training error: 0.508863\n",
      "Epoch #93, Training error: 0.508863\n",
      "Epoch #94, Training error: 0.508863\n",
      "Epoch #95, Training error: 0.508863\n",
      "Epoch #96, Training error: 0.508863\n",
      "Epoch #97, Training error: 0.508863\n",
      "Epoch #98, Training error: 0.508863\n",
      "Epoch #99, Training error: 0.508863\n",
      "Epoch #100, Training error: 0.508863\n",
      "Epoch #101, Training error: 0.508863\n",
      "Epoch #102, Training error: 0.508863\n",
      "Epoch #103, Training error: 0.508863\n",
      "Epoch #104, Training error: 0.508863\n",
      "Epoch #105, Training error: 0.508863\n",
      "Epoch #106, Training error: 0.508863\n",
      "Epoch #107, Training error: 0.508863\n",
      "Epoch #108, Training error: 0.508863\n",
      "Epoch #109, Training error: 0.508863\n",
      "Epoch #110, Training error: 0.508863\n",
      "Epoch #111, Training error: 0.508863\n",
      "Epoch #112, Training error: 0.508863\n",
      "Epoch #113, Training error: 0.508863\n",
      "Epoch #114, Training error: 0.508863\n",
      "Epoch #115, Training error: 0.508863\n",
      "Epoch #116, Training error: 0.508863\n",
      "Epoch #117, Training error: 0.508863\n",
      "Epoch #118, Training error: 0.508863\n",
      "Epoch #119, Training error: 0.508863\n",
      "Epoch #120, Training error: 0.508863\n",
      "Epoch #121, Training error: 0.508863\n",
      "Epoch #122, Training error: 0.508863\n",
      "Epoch #123, Training error: 0.508863\n",
      "Epoch #124, Training error: 0.508863\n",
      "Epoch #125, Training error: 0.508863\n",
      "Epoch #126, Training error: 0.508863\n",
      "Epoch #127, Training error: 0.508863\n",
      "Epoch #128, Training error: 0.508863\n",
      "Epoch #129, Training error: 0.508863\n",
      "Epoch #130, Training error: 0.508863\n",
      "Epoch #131, Training error: 0.508863\n",
      "Epoch #132, Training error: 0.508863\n",
      "Epoch #133, Training error: 0.508863\n",
      "Epoch #134, Training error: 0.508863\n",
      "Epoch #135, Training error: 0.508863\n",
      "Epoch #136, Training error: 0.508863\n",
      "Epoch #137, Training error: 0.508863\n",
      "Epoch #138, Training error: 0.508863\n",
      "Epoch #139, Training error: 0.508863\n",
      "Epoch #140, Training error: 0.508863\n",
      "Epoch #141, Training error: 0.508863\n",
      "Epoch #142, Training error: 0.508863\n",
      "Epoch #143, Training error: 0.508863\n",
      "Epoch #144, Training error: 0.508863\n",
      "Epoch #145, Training error: 0.508863\n",
      "Epoch #146, Training error: 0.508863\n",
      "Epoch #147, Training error: 0.508863\n",
      "Epoch #148, Training error: 0.508863\n",
      "Epoch #149, Training error: 0.508863\n",
      "Epoch #150, Training error: 0.508863\n",
      "Epoch #151, Training error: 0.508863\n",
      "Epoch #152, Training error: 0.508863\n",
      "Epoch #153, Training error: 0.508863\n",
      "Epoch #154, Training error: 0.508863\n",
      "Epoch #155, Training error: 0.508863\n",
      "Epoch #156, Training error: 0.508863\n",
      "Epoch #157, Training error: 0.508863\n",
      "Epoch #158, Training error: 0.508863\n",
      "Epoch #159, Training error: 0.508863\n",
      "Epoch #160, Training error: 0.508863\n",
      "Epoch #161, Training error: 0.508863\n",
      "Epoch #162, Training error: 0.508863\n",
      "Epoch #163, Training error: 0.508863\n",
      "Epoch #164, Training error: 0.508863\n",
      "Epoch #165, Training error: 0.508863\n",
      "Epoch #166, Training error: 0.493222\n",
      "Epoch #167, Training error: 0.493222\n",
      "Epoch #168, Training error: 0.493222\n",
      "Epoch #169, Training error: 0.493222\n",
      "Epoch #170, Training error: 0.493222\n",
      "Epoch #171, Training error: 0.493222\n",
      "Epoch #172, Training error: 0.493222\n",
      "Epoch #173, Training error: 0.490615\n",
      "Epoch #174, Training error: 0.493222\n",
      "Epoch #175, Training error: 0.493222\n",
      "Epoch #176, Training error: 0.484880\n",
      "Epoch #177, Training error: 0.415537\n",
      "Epoch #178, Training error: 0.486444\n",
      "Epoch #179, Training error: 0.437435\n",
      "Epoch #180, Training error: 0.460897\n",
      "Epoch #181, Training error: 0.449426\n",
      "Epoch #182, Training error: 0.434828\n",
      "Epoch #183, Training error: 0.465589\n",
      "Epoch #184, Training error: 0.392596\n",
      "Epoch #185, Training error: 0.481230\n",
      "Epoch #186, Training error: 0.465589\n",
      "Epoch #187, Training error: 0.424400\n",
      "Epoch #188, Training error: 0.464025\n",
      "Epoch #189, Training error: 0.402503\n",
      "Epoch #190, Training error: 0.270073\n",
      "Epoch #191, Training error: 0.399374\n",
      "Epoch #192, Training error: 0.460897\n",
      "Epoch #193, Training error: 0.447341\n",
      "Epoch #194, Training error: 0.382169\n",
      "Epoch #195, Training error: 0.322211\n",
      "Epoch #196, Training error: 0.342023\n",
      "Epoch #197, Training error: 0.270594\n",
      "Epoch #198, Training error: 0.362357\n",
      "Epoch #199, Training error: 0.418665\n",
      "Epoch #200, Training error: 0.429614\n",
      "Epoch #201, Training error: 0.359750\n",
      "Epoch #202, Training error: 0.419708\n",
      "Epoch #203, Training error: 0.341502\n",
      "Epoch #204, Training error: 0.353493\n",
      "Epoch #205, Training error: 0.376955\n",
      "Epoch #206, Training error: 0.295620\n",
      "Epoch #207, Training error: 0.380083\n",
      "Epoch #208, Training error: 0.259124\n",
      "Epoch #209, Training error: 0.259645\n",
      "Epoch #210, Training error: 0.263295\n",
      "Epoch #211, Training error: 0.376434\n",
      "Epoch #212, Training error: 0.311262\n",
      "Epoch #213, Training error: 0.375912\n",
      "Epoch #214, Training error: 0.343587\n",
      "Epoch #215, Training error: 0.268509\n",
      "Epoch #216, Training error: 0.267466\n",
      "Epoch #217, Training error: 0.375391\n",
      "Epoch #218, Training error: 0.375391\n",
      "Epoch #219, Training error: 0.371741\n",
      "Epoch #220, Training error: 0.401460\n",
      "Epoch #221, Training error: 0.274765\n",
      "Epoch #222, Training error: 0.417101\n",
      "Epoch #223, Training error: 0.375391\n",
      "Epoch #224, Training error: 0.375391\n",
      "Epoch #225, Training error: 0.367049\n",
      "Epoch #226, Training error: 0.375912\n",
      "Epoch #227, Training error: 0.407195\n",
      "Epoch #228, Training error: 0.374348\n",
      "Epoch #229, Training error: 0.375391\n",
      "Epoch #230, Training error: 0.392075\n",
      "Epoch #231, Training error: 0.374870\n",
      "Epoch #232, Training error: 0.287278\n",
      "Epoch #233, Training error: 0.293014\n",
      "Epoch #234, Training error: 0.391554\n",
      "Epoch #235, Training error: 0.269030\n",
      "Epoch #236, Training error: 0.375391\n",
      "Epoch #237, Training error: 0.375912\n",
      "Epoch #238, Training error: 0.375912\n",
      "Epoch #239, Training error: 0.379041\n",
      "Epoch #240, Training error: 0.269030\n",
      "Epoch #241, Training error: 0.388425\n",
      "Epoch #242, Training error: 0.293014\n",
      "Epoch #243, Training error: 0.386861\n",
      "Epoch #244, Training error: 0.267987\n",
      "Epoch #245, Training error: 0.283107\n",
      "Epoch #246, Training error: 0.276851\n",
      "Epoch #247, Training error: 0.325339\n",
      "Epoch #248, Training error: 0.376434\n",
      "Epoch #249, Training error: 0.349322\n",
      "Epoch #250, Training error: 0.271637\n",
      "Epoch #251, Training error: 0.269552\n",
      "Epoch #252, Training error: 0.273201\n",
      "Epoch #253, Training error: 0.366528\n",
      "Epoch #254, Training error: 0.370177\n",
      "Epoch #255, Training error: 0.391554\n",
      "Epoch #256, Training error: 0.263816\n",
      "Epoch #257, Training error: 0.325860\n",
      "Epoch #258, Training error: 0.374870\n",
      "Epoch #259, Training error: 0.386340\n",
      "Epoch #260, Training error: 0.294578\n",
      "Epoch #261, Training error: 0.374870\n",
      "Epoch #262, Training error: 0.395203\n",
      "Epoch #263, Training error: 0.374348\n",
      "Epoch #264, Training error: 0.386861\n",
      "Epoch #265, Training error: 0.374870\n",
      "Epoch #266, Training error: 0.386861\n",
      "Epoch #267, Training error: 0.269030\n",
      "Epoch #268, Training error: 0.294578\n",
      "Epoch #269, Training error: 0.267466\n",
      "Epoch #270, Training error: 0.294578\n",
      "Epoch #271, Training error: 0.268509\n",
      "Epoch #272, Training error: 0.267987\n",
      "Epoch #273, Training error: 0.375912\n",
      "Epoch #274, Training error: 0.265902\n",
      "Epoch #275, Training error: 0.386861\n",
      "Epoch #276, Training error: 0.307612\n",
      "Epoch #277, Training error: 0.385297\n",
      "Epoch #278, Training error: 0.352972\n",
      "Epoch #279, Training error: 0.276851\n",
      "Epoch #280, Training error: 0.262774\n",
      "Epoch #281, Training error: 0.378519\n",
      "Epoch #282, Training error: 0.378519\n",
      "Epoch #283, Training error: 0.378519\n",
      "Epoch #284, Training error: 0.272680\n",
      "Epoch #285, Training error: 0.271637\n",
      "Epoch #286, Training error: 0.397289\n",
      "Epoch #287, Training error: 0.373827\n",
      "Epoch #288, Training error: 0.267987\n",
      "Epoch #289, Training error: 0.365485\n",
      "Epoch #290, Training error: 0.342023\n",
      "Epoch #291, Training error: 0.386861\n",
      "Epoch #292, Training error: 0.285714\n",
      "Epoch #293, Training error: 0.263816\n",
      "Epoch #294, Training error: 0.398332\n",
      "Epoch #295, Training error: 0.373827\n",
      "Epoch #296, Training error: 0.374348\n",
      "Epoch #297, Training error: 0.263816\n",
      "Epoch #298, Training error: 0.374870\n",
      "Epoch #299, Training error: 0.373827\n",
      "CPU times: user 1min 59s, sys: 6.35 s, total: 2min 5s\n",
      "Wall time: 1min 48s\n"
     ]
    }
   ],
   "source": [
    "lf_opts = {'sample': False, 'verbose': True}\n",
    "model_opts = {'n_iter': 300, 'verbose': True, 'contain_mention': True, 'word_window_length': 0, 'ignore_case': False}\n",
    "%time DDL.train_model(method='lstm', lf_opts=lf_opts, model_opts=model_opts)"
   ]
  },
  {
   "cell_type": "code",
   "execution_count": 22,
   "metadata": {
    "collapsed": false
   },
   "outputs": [
    {
     "name": "stdout",
     "output_type": "stream",
     "text": [
      "Full model accuracy: 0.720\n"
     ]
    }
   ],
   "source": [
    "idxs, gt = DDL.get_labeled_ground_truth(subset=DDL.holdout())\n",
    "acc_feats = np.mean(DDL.get_predicted(subset=DDL.holdout()) == gt)\n",
    "print \"Full model accuracy: {:.3f}\".format(acc_feats)"
   ]
  },
  {
   "cell_type": "code",
   "execution_count": null,
   "metadata": {
    "collapsed": true
   },
   "outputs": [],
   "source": []
  }
 ],
 "metadata": {
  "kernelspec": {
   "display_name": "Python 2",
   "language": "python",
   "name": "python2"
  },
  "language_info": {
   "codemirror_mode": {
    "name": "ipython",
    "version": 2
   },
   "file_extension": ".py",
   "mimetype": "text/x-python",
   "name": "python",
   "nbconvert_exporter": "python",
   "pygments_lexer": "ipython2",
   "version": "2.7.13"
  }
 },
 "nbformat": 4,
 "nbformat_minor": 0
}
