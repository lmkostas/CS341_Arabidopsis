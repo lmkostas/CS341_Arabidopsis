{
 "cells": [
  {
   "cell_type": "code",
   "execution_count": 1,
   "metadata": {
    "collapsed": true
   },
   "outputs": [],
   "source": [
    "%load_ext autoreload\n",
    "%autoreload 2\n",
    "import os\n",
    "import sys\n",
    "# Must set SNORKELDB before importing SnorkelSession\n",
    "from snorkel import SnorkelSession\n",
    "from snorkel.parser import TextDocPreprocessor\n",
    "from snorkel.parser import CorpusParser\n",
    "from snorkel.models import Document, Sentence\n",
    "session = SnorkelSession()"
   ]
  },
  {
   "cell_type": "code",
   "execution_count": 2,
   "metadata": {},
   "outputs": [
    {
     "name": "stdout",
     "output_type": "stream",
     "text": [
      "Clearing existing...\n",
      "Running UDF...\n",
      "Documents: 1\n",
      "Sentences: 17\n"
     ]
    }
   ],
   "source": [
    "doc_preprocessor = TextDocPreprocessor('small_data_pp/small_match_test.txt')\n",
    "\n",
    "corpus_parser = CorpusParser()\n",
    "corpus_parser.apply(doc_preprocessor)"
   ]
  },
  {
   "cell_type": "code",
   "execution_count": 2,
   "metadata": {},
   "outputs": [
    {
     "name": "stdout",
     "output_type": "stream",
     "text": [
      "Documents: 400\n",
      "Sentences: 95656\n"
     ]
    }
   ],
   "source": [
    "print \"Documents:\", session.query(Document).count()\n",
    "print \"Sentences:\", session.query(Sentence).count()"
   ]
  },
  {
   "cell_type": "code",
   "execution_count": 2,
   "metadata": {
    "collapsed": true
   },
   "outputs": [],
   "source": [
    "from snorkel.candidates import Ngrams, CandidateSpace, CandidateExtractor\n",
    "from snorkel.models import Document, Sentence, candidate_subclass\n",
    "\n",
    "GenePhenoPair = candidate_subclass('GPPair',['gene', 'pheno'])"
   ]
  },
  {
   "cell_type": "code",
   "execution_count": 3,
   "metadata": {
    "collapsed": true
   },
   "outputs": [],
   "source": [
    "all_sents = set()\n",
    "docs = session.query(Document).order_by(Document.name).all()\n",
    "countdev=0\n",
    "for i, doc in enumerate(docs):\n",
    "    for s in doc.sentences:\n",
    "        if i > 4 and i <=10:\n",
    "            all_sents.add(s)\n",
    "        if i > 10: break"
   ]
  },
  {
   "cell_type": "code",
   "execution_count": 4,
   "metadata": {},
   "outputs": [
    {
     "name": "stdout",
     "output_type": "stream",
     "text": [
      "1152\n"
     ]
    }
   ],
   "source": [
    "print len(all_sents)"
   ]
  },
  {
   "cell_type": "code",
   "execution_count": null,
   "metadata": {},
   "outputs": [],
   "source": [
    "from extraction import GM, PM\n",
    "\n",
    "gene_ngrams = Ngrams(n_max=5)\n",
    "pheno_ngrams = Ngrams(n_max=10)\n",
    "cand_extractor = CandidateExtractor(GenePhenoPair, \n",
    "                                    [gene_ngrams, pheno_ngrams], [GM, PM],\n",
    "                                    symmetric_relations=True)\n",
    "\n",
    "print \"Extracting Candidates...\"\n",
    "\n",
    "cand_extractor.apply(all_sents, split=1)\n",
    "all_cands = session.query(GenePhenoPair).filter(GenePhenoPair.split==1).all()\n",
    "print \"Number of dev candidates:\", len(all_cands)"
   ]
  },
  {
   "cell_type": "code",
   "execution_count": null,
   "metadata": {},
   "outputs": [],
   "source": [
    "from snorkel.viewer import SentenceNgramViewer\n",
    "sv = SentenceNgramViewer(all_cands, session, annotator_name = 'gold')"
   ]
  },
  {
   "cell_type": "code",
   "execution_count": null,
   "metadata": {},
   "outputs": [],
   "source": [
    "sv"
   ]
  },
  {
   "cell_type": "code",
   "execution_count": null,
   "metadata": {
    "collapsed": true
   },
   "outputs": [],
   "source": []
  }
 ],
 "metadata": {
  "kernelspec": {
   "display_name": "Python 2",
   "language": "python",
   "name": "python2"
  },
  "language_info": {
   "codemirror_mode": {
    "name": "ipython",
    "version": 2
   },
   "file_extension": ".py",
   "mimetype": "text/x-python",
   "name": "python",
   "nbconvert_exporter": "python",
   "pygments_lexer": "ipython2",
   "version": "2.7.13"
  }
 },
 "nbformat": 4,
 "nbformat_minor": 2
}
